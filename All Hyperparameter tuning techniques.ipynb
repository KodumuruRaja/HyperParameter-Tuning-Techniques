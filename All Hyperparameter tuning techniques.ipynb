{
  "nbformat": 4,
  "nbformat_minor": 0,
  "metadata": {
    "colab": {
      "name": "All Hyperparameter tuning techniques.ipynb",
      "provenance": [],
      "collapsed_sections": [],
      "authorship_tag": "ABX9TyOD0o8yHIUEc2Di7LEc+EK+",
      "include_colab_link": true
    },
    "kernelspec": {
      "name": "python3",
      "display_name": "Python 3"
    },
    "widgets": {
      "application/vnd.jupyter.widget-state+json": {
        "ea0ed97a87c64928a245c03ebd31d997": {
          "model_module": "@jupyter-widgets/controls",
          "model_name": "HBoxModel",
          "state": {
            "_view_name": "HBoxView",
            "_dom_classes": [],
            "_model_name": "HBoxModel",
            "_view_module": "@jupyter-widgets/controls",
            "_model_module_version": "1.5.0",
            "_view_count": null,
            "_view_module_version": "1.5.0",
            "box_style": "",
            "layout": "IPY_MODEL_517c0d2e5c6e4ee7a11621b1d08cd5c7",
            "_model_module": "@jupyter-widgets/controls",
            "children": [
              "IPY_MODEL_75cefed9ab9a4b3a91c9b74d1704e990",
              "IPY_MODEL_7b89e44f1a9f46a783911daf7a3399f9"
            ]
          }
        },
        "517c0d2e5c6e4ee7a11621b1d08cd5c7": {
          "model_module": "@jupyter-widgets/base",
          "model_name": "LayoutModel",
          "state": {
            "_view_name": "LayoutView",
            "grid_template_rows": null,
            "right": null,
            "justify_content": null,
            "_view_module": "@jupyter-widgets/base",
            "overflow": null,
            "_model_module_version": "1.2.0",
            "_view_count": null,
            "flex_flow": null,
            "width": null,
            "min_width": null,
            "border": null,
            "align_items": null,
            "bottom": null,
            "_model_module": "@jupyter-widgets/base",
            "top": null,
            "grid_column": null,
            "overflow_y": null,
            "overflow_x": null,
            "grid_auto_flow": null,
            "grid_area": null,
            "grid_template_columns": null,
            "flex": null,
            "_model_name": "LayoutModel",
            "justify_items": null,
            "grid_row": null,
            "max_height": null,
            "align_content": null,
            "visibility": null,
            "align_self": null,
            "height": null,
            "min_height": null,
            "padding": null,
            "grid_auto_rows": null,
            "grid_gap": null,
            "max_width": null,
            "order": null,
            "_view_module_version": "1.2.0",
            "grid_template_areas": null,
            "object_position": null,
            "object_fit": null,
            "grid_auto_columns": null,
            "margin": null,
            "display": null,
            "left": null
          }
        },
        "75cefed9ab9a4b3a91c9b74d1704e990": {
          "model_module": "@jupyter-widgets/controls",
          "model_name": "FloatProgressModel",
          "state": {
            "_view_name": "ProgressView",
            "style": "IPY_MODEL_6c34517fd4f240db87ccf5947856fc17",
            "_dom_classes": [],
            "description": "Optimization Progress: 100%",
            "_model_name": "FloatProgressModel",
            "bar_style": "",
            "max": 84,
            "_view_module": "@jupyter-widgets/controls",
            "_model_module_version": "1.5.0",
            "value": 84,
            "_view_count": null,
            "_view_module_version": "1.5.0",
            "orientation": "horizontal",
            "min": 0,
            "description_tooltip": null,
            "_model_module": "@jupyter-widgets/controls",
            "layout": "IPY_MODEL_2fa6c6e6016d4978abfef5959fff1464"
          }
        },
        "7b89e44f1a9f46a783911daf7a3399f9": {
          "model_module": "@jupyter-widgets/controls",
          "model_name": "HTMLModel",
          "state": {
            "_view_name": "HTMLView",
            "style": "IPY_MODEL_ed5494ccfaa6436b8b519761b0919a44",
            "_dom_classes": [],
            "description": "",
            "_model_name": "HTMLModel",
            "placeholder": "​",
            "_view_module": "@jupyter-widgets/controls",
            "_model_module_version": "1.5.0",
            "value": " 84/84 [21:41&lt;00:00, 13.06s/pipeline]",
            "_view_count": null,
            "_view_module_version": "1.5.0",
            "description_tooltip": null,
            "_model_module": "@jupyter-widgets/controls",
            "layout": "IPY_MODEL_df23c4b622d94fe3bd31359f42613968"
          }
        },
        "6c34517fd4f240db87ccf5947856fc17": {
          "model_module": "@jupyter-widgets/controls",
          "model_name": "ProgressStyleModel",
          "state": {
            "_view_name": "StyleView",
            "_model_name": "ProgressStyleModel",
            "description_width": "initial",
            "_view_module": "@jupyter-widgets/base",
            "_model_module_version": "1.5.0",
            "_view_count": null,
            "_view_module_version": "1.2.0",
            "bar_color": null,
            "_model_module": "@jupyter-widgets/controls"
          }
        },
        "2fa6c6e6016d4978abfef5959fff1464": {
          "model_module": "@jupyter-widgets/base",
          "model_name": "LayoutModel",
          "state": {
            "_view_name": "LayoutView",
            "grid_template_rows": null,
            "right": null,
            "justify_content": null,
            "_view_module": "@jupyter-widgets/base",
            "overflow": null,
            "_model_module_version": "1.2.0",
            "_view_count": null,
            "flex_flow": null,
            "width": null,
            "min_width": null,
            "border": null,
            "align_items": null,
            "bottom": null,
            "_model_module": "@jupyter-widgets/base",
            "top": null,
            "grid_column": null,
            "overflow_y": null,
            "overflow_x": null,
            "grid_auto_flow": null,
            "grid_area": null,
            "grid_template_columns": null,
            "flex": null,
            "_model_name": "LayoutModel",
            "justify_items": null,
            "grid_row": null,
            "max_height": null,
            "align_content": null,
            "visibility": null,
            "align_self": null,
            "height": null,
            "min_height": null,
            "padding": null,
            "grid_auto_rows": null,
            "grid_gap": null,
            "max_width": null,
            "order": null,
            "_view_module_version": "1.2.0",
            "grid_template_areas": null,
            "object_position": null,
            "object_fit": null,
            "grid_auto_columns": null,
            "margin": null,
            "display": null,
            "left": null
          }
        },
        "ed5494ccfaa6436b8b519761b0919a44": {
          "model_module": "@jupyter-widgets/controls",
          "model_name": "DescriptionStyleModel",
          "state": {
            "_view_name": "StyleView",
            "_model_name": "DescriptionStyleModel",
            "description_width": "",
            "_view_module": "@jupyter-widgets/base",
            "_model_module_version": "1.5.0",
            "_view_count": null,
            "_view_module_version": "1.2.0",
            "_model_module": "@jupyter-widgets/controls"
          }
        },
        "df23c4b622d94fe3bd31359f42613968": {
          "model_module": "@jupyter-widgets/base",
          "model_name": "LayoutModel",
          "state": {
            "_view_name": "LayoutView",
            "grid_template_rows": null,
            "right": null,
            "justify_content": null,
            "_view_module": "@jupyter-widgets/base",
            "overflow": null,
            "_model_module_version": "1.2.0",
            "_view_count": null,
            "flex_flow": null,
            "width": null,
            "min_width": null,
            "border": null,
            "align_items": null,
            "bottom": null,
            "_model_module": "@jupyter-widgets/base",
            "top": null,
            "grid_column": null,
            "overflow_y": null,
            "overflow_x": null,
            "grid_auto_flow": null,
            "grid_area": null,
            "grid_template_columns": null,
            "flex": null,
            "_model_name": "LayoutModel",
            "justify_items": null,
            "grid_row": null,
            "max_height": null,
            "align_content": null,
            "visibility": null,
            "align_self": null,
            "height": null,
            "min_height": null,
            "padding": null,
            "grid_auto_rows": null,
            "grid_gap": null,
            "max_width": null,
            "order": null,
            "_view_module_version": "1.2.0",
            "grid_template_areas": null,
            "object_position": null,
            "object_fit": null,
            "grid_auto_columns": null,
            "margin": null,
            "display": null,
            "left": null
          }
        }
      }
    }
  },
  "cells": [
    {
      "cell_type": "markdown",
      "metadata": {
        "id": "view-in-github",
        "colab_type": "text"
      },
      "source": [
        "<a href=\"https://colab.research.google.com/github/KodumuruRaja/HyperParameter-Tuning-Techniques/blob/main/All%20Hyperparameter%20tuning%20techniques.ipynb\" target=\"_parent\"><img src=\"https://colab.research.google.com/assets/colab-badge.svg\" alt=\"Open In Colab\"/></a>"
      ]
    },
    {
      "cell_type": "code",
      "metadata": {
        "id": "QocVAMlCwtl8"
      },
      "source": [
        "import warnings\r\n",
        "warnings.filterwarnings('ignore')"
      ],
      "execution_count": null,
      "outputs": []
    },
    {
      "cell_type": "code",
      "metadata": {
        "id": "HbFppgrd_OW5"
      },
      "source": [
        "import pandas as pd\r\n",
        "df=pd.read_csv(\"/content/diabetes.csv\")"
      ],
      "execution_count": null,
      "outputs": []
    },
    {
      "cell_type": "code",
      "metadata": {
        "colab": {
          "base_uri": "https://localhost:8080/",
          "height": 195
        },
        "id": "bNpDrCqJ_dp3",
        "outputId": "078cf1bf-d58e-4cce-dd99-2c92ab837dad"
      },
      "source": [
        "df.head()"
      ],
      "execution_count": null,
      "outputs": [
        {
          "output_type": "execute_result",
          "data": {
            "text/html": [
              "<div>\n",
              "<style scoped>\n",
              "    .dataframe tbody tr th:only-of-type {\n",
              "        vertical-align: middle;\n",
              "    }\n",
              "\n",
              "    .dataframe tbody tr th {\n",
              "        vertical-align: top;\n",
              "    }\n",
              "\n",
              "    .dataframe thead th {\n",
              "        text-align: right;\n",
              "    }\n",
              "</style>\n",
              "<table border=\"1\" class=\"dataframe\">\n",
              "  <thead>\n",
              "    <tr style=\"text-align: right;\">\n",
              "      <th></th>\n",
              "      <th>Pregnancies</th>\n",
              "      <th>Glucose</th>\n",
              "      <th>BloodPressure</th>\n",
              "      <th>SkinThickness</th>\n",
              "      <th>Insulin</th>\n",
              "      <th>BMI</th>\n",
              "      <th>DiabetesPedigreeFunction</th>\n",
              "      <th>Age</th>\n",
              "      <th>Outcome</th>\n",
              "    </tr>\n",
              "  </thead>\n",
              "  <tbody>\n",
              "    <tr>\n",
              "      <th>0</th>\n",
              "      <td>6</td>\n",
              "      <td>148</td>\n",
              "      <td>72</td>\n",
              "      <td>35</td>\n",
              "      <td>0</td>\n",
              "      <td>33.6</td>\n",
              "      <td>0.627</td>\n",
              "      <td>50</td>\n",
              "      <td>1</td>\n",
              "    </tr>\n",
              "    <tr>\n",
              "      <th>1</th>\n",
              "      <td>1</td>\n",
              "      <td>85</td>\n",
              "      <td>66</td>\n",
              "      <td>29</td>\n",
              "      <td>0</td>\n",
              "      <td>26.6</td>\n",
              "      <td>0.351</td>\n",
              "      <td>31</td>\n",
              "      <td>0</td>\n",
              "    </tr>\n",
              "    <tr>\n",
              "      <th>2</th>\n",
              "      <td>8</td>\n",
              "      <td>183</td>\n",
              "      <td>64</td>\n",
              "      <td>0</td>\n",
              "      <td>0</td>\n",
              "      <td>23.3</td>\n",
              "      <td>0.672</td>\n",
              "      <td>32</td>\n",
              "      <td>1</td>\n",
              "    </tr>\n",
              "    <tr>\n",
              "      <th>3</th>\n",
              "      <td>1</td>\n",
              "      <td>89</td>\n",
              "      <td>66</td>\n",
              "      <td>23</td>\n",
              "      <td>94</td>\n",
              "      <td>28.1</td>\n",
              "      <td>0.167</td>\n",
              "      <td>21</td>\n",
              "      <td>0</td>\n",
              "    </tr>\n",
              "    <tr>\n",
              "      <th>4</th>\n",
              "      <td>0</td>\n",
              "      <td>137</td>\n",
              "      <td>40</td>\n",
              "      <td>35</td>\n",
              "      <td>168</td>\n",
              "      <td>43.1</td>\n",
              "      <td>2.288</td>\n",
              "      <td>33</td>\n",
              "      <td>1</td>\n",
              "    </tr>\n",
              "  </tbody>\n",
              "</table>\n",
              "</div>"
            ],
            "text/plain": [
              "   Pregnancies  Glucose  BloodPressure  ...  DiabetesPedigreeFunction  Age  Outcome\n",
              "0            6      148             72  ...                     0.627   50        1\n",
              "1            1       85             66  ...                     0.351   31        0\n",
              "2            8      183             64  ...                     0.672   32        1\n",
              "3            1       89             66  ...                     0.167   21        0\n",
              "4            0      137             40  ...                     2.288   33        1\n",
              "\n",
              "[5 rows x 9 columns]"
            ]
          },
          "metadata": {
            "tags": []
          },
          "execution_count": 3
        }
      ]
    },
    {
      "cell_type": "code",
      "metadata": {
        "colab": {
          "base_uri": "https://localhost:8080/",
          "height": 195
        },
        "id": "o-yeXG6b_epc",
        "outputId": "8255562f-6bfa-469c-a526-6d77d0d1723c"
      },
      "source": [
        "import numpy as np\r\n",
        "df['Glucose']=np.where(df['Glucose']==0,df['Glucose'].median(),df['Glucose'])\r\n",
        "df['Insulin']=np.where(df['Insulin']==0,df['Insulin'].median(),df['Insulin'])\r\n",
        "df['SkinThickness']=np.where(df['SkinThickness']==0,df['SkinThickness'].median(),df['SkinThickness'])\r\n",
        "df.head()"
      ],
      "execution_count": null,
      "outputs": [
        {
          "output_type": "execute_result",
          "data": {
            "text/html": [
              "<div>\n",
              "<style scoped>\n",
              "    .dataframe tbody tr th:only-of-type {\n",
              "        vertical-align: middle;\n",
              "    }\n",
              "\n",
              "    .dataframe tbody tr th {\n",
              "        vertical-align: top;\n",
              "    }\n",
              "\n",
              "    .dataframe thead th {\n",
              "        text-align: right;\n",
              "    }\n",
              "</style>\n",
              "<table border=\"1\" class=\"dataframe\">\n",
              "  <thead>\n",
              "    <tr style=\"text-align: right;\">\n",
              "      <th></th>\n",
              "      <th>Pregnancies</th>\n",
              "      <th>Glucose</th>\n",
              "      <th>BloodPressure</th>\n",
              "      <th>SkinThickness</th>\n",
              "      <th>Insulin</th>\n",
              "      <th>BMI</th>\n",
              "      <th>DiabetesPedigreeFunction</th>\n",
              "      <th>Age</th>\n",
              "      <th>Outcome</th>\n",
              "    </tr>\n",
              "  </thead>\n",
              "  <tbody>\n",
              "    <tr>\n",
              "      <th>0</th>\n",
              "      <td>6</td>\n",
              "      <td>148.0</td>\n",
              "      <td>72</td>\n",
              "      <td>35.0</td>\n",
              "      <td>30.5</td>\n",
              "      <td>33.6</td>\n",
              "      <td>0.627</td>\n",
              "      <td>50</td>\n",
              "      <td>1</td>\n",
              "    </tr>\n",
              "    <tr>\n",
              "      <th>1</th>\n",
              "      <td>1</td>\n",
              "      <td>85.0</td>\n",
              "      <td>66</td>\n",
              "      <td>29.0</td>\n",
              "      <td>30.5</td>\n",
              "      <td>26.6</td>\n",
              "      <td>0.351</td>\n",
              "      <td>31</td>\n",
              "      <td>0</td>\n",
              "    </tr>\n",
              "    <tr>\n",
              "      <th>2</th>\n",
              "      <td>8</td>\n",
              "      <td>183.0</td>\n",
              "      <td>64</td>\n",
              "      <td>23.0</td>\n",
              "      <td>30.5</td>\n",
              "      <td>23.3</td>\n",
              "      <td>0.672</td>\n",
              "      <td>32</td>\n",
              "      <td>1</td>\n",
              "    </tr>\n",
              "    <tr>\n",
              "      <th>3</th>\n",
              "      <td>1</td>\n",
              "      <td>89.0</td>\n",
              "      <td>66</td>\n",
              "      <td>23.0</td>\n",
              "      <td>94.0</td>\n",
              "      <td>28.1</td>\n",
              "      <td>0.167</td>\n",
              "      <td>21</td>\n",
              "      <td>0</td>\n",
              "    </tr>\n",
              "    <tr>\n",
              "      <th>4</th>\n",
              "      <td>0</td>\n",
              "      <td>137.0</td>\n",
              "      <td>40</td>\n",
              "      <td>35.0</td>\n",
              "      <td>168.0</td>\n",
              "      <td>43.1</td>\n",
              "      <td>2.288</td>\n",
              "      <td>33</td>\n",
              "      <td>1</td>\n",
              "    </tr>\n",
              "  </tbody>\n",
              "</table>\n",
              "</div>"
            ],
            "text/plain": [
              "   Pregnancies  Glucose  BloodPressure  ...  DiabetesPedigreeFunction  Age  Outcome\n",
              "0            6    148.0             72  ...                     0.627   50        1\n",
              "1            1     85.0             66  ...                     0.351   31        0\n",
              "2            8    183.0             64  ...                     0.672   32        1\n",
              "3            1     89.0             66  ...                     0.167   21        0\n",
              "4            0    137.0             40  ...                     2.288   33        1\n",
              "\n",
              "[5 rows x 9 columns]"
            ]
          },
          "metadata": {
            "tags": []
          },
          "execution_count": 4
        }
      ]
    },
    {
      "cell_type": "code",
      "metadata": {
        "id": "pMyZK7VVACE3"
      },
      "source": [
        "#Independent and Dependent Features\r\n",
        "x=df.drop('Outcome',axis=1)\r\n",
        "y=df['Outcome']"
      ],
      "execution_count": null,
      "outputs": []
    },
    {
      "cell_type": "code",
      "metadata": {
        "colab": {
          "base_uri": "https://localhost:8080/",
          "height": 195
        },
        "id": "-3FWXLnHMT3Z",
        "outputId": "30e77300-625e-4a41-886b-1c5354ffa9f2"
      },
      "source": [
        "x.head()"
      ],
      "execution_count": null,
      "outputs": [
        {
          "output_type": "execute_result",
          "data": {
            "text/html": [
              "<div>\n",
              "<style scoped>\n",
              "    .dataframe tbody tr th:only-of-type {\n",
              "        vertical-align: middle;\n",
              "    }\n",
              "\n",
              "    .dataframe tbody tr th {\n",
              "        vertical-align: top;\n",
              "    }\n",
              "\n",
              "    .dataframe thead th {\n",
              "        text-align: right;\n",
              "    }\n",
              "</style>\n",
              "<table border=\"1\" class=\"dataframe\">\n",
              "  <thead>\n",
              "    <tr style=\"text-align: right;\">\n",
              "      <th></th>\n",
              "      <th>Pregnancies</th>\n",
              "      <th>Glucose</th>\n",
              "      <th>BloodPressure</th>\n",
              "      <th>SkinThickness</th>\n",
              "      <th>Insulin</th>\n",
              "      <th>BMI</th>\n",
              "      <th>DiabetesPedigreeFunction</th>\n",
              "      <th>Age</th>\n",
              "    </tr>\n",
              "  </thead>\n",
              "  <tbody>\n",
              "    <tr>\n",
              "      <th>0</th>\n",
              "      <td>6</td>\n",
              "      <td>148.0</td>\n",
              "      <td>72</td>\n",
              "      <td>35.0</td>\n",
              "      <td>30.5</td>\n",
              "      <td>33.6</td>\n",
              "      <td>0.627</td>\n",
              "      <td>50</td>\n",
              "    </tr>\n",
              "    <tr>\n",
              "      <th>1</th>\n",
              "      <td>1</td>\n",
              "      <td>85.0</td>\n",
              "      <td>66</td>\n",
              "      <td>29.0</td>\n",
              "      <td>30.5</td>\n",
              "      <td>26.6</td>\n",
              "      <td>0.351</td>\n",
              "      <td>31</td>\n",
              "    </tr>\n",
              "    <tr>\n",
              "      <th>2</th>\n",
              "      <td>8</td>\n",
              "      <td>183.0</td>\n",
              "      <td>64</td>\n",
              "      <td>23.0</td>\n",
              "      <td>30.5</td>\n",
              "      <td>23.3</td>\n",
              "      <td>0.672</td>\n",
              "      <td>32</td>\n",
              "    </tr>\n",
              "    <tr>\n",
              "      <th>3</th>\n",
              "      <td>1</td>\n",
              "      <td>89.0</td>\n",
              "      <td>66</td>\n",
              "      <td>23.0</td>\n",
              "      <td>94.0</td>\n",
              "      <td>28.1</td>\n",
              "      <td>0.167</td>\n",
              "      <td>21</td>\n",
              "    </tr>\n",
              "    <tr>\n",
              "      <th>4</th>\n",
              "      <td>0</td>\n",
              "      <td>137.0</td>\n",
              "      <td>40</td>\n",
              "      <td>35.0</td>\n",
              "      <td>168.0</td>\n",
              "      <td>43.1</td>\n",
              "      <td>2.288</td>\n",
              "      <td>33</td>\n",
              "    </tr>\n",
              "  </tbody>\n",
              "</table>\n",
              "</div>"
            ],
            "text/plain": [
              "   Pregnancies  Glucose  BloodPressure  ...   BMI  DiabetesPedigreeFunction  Age\n",
              "0            6    148.0             72  ...  33.6                     0.627   50\n",
              "1            1     85.0             66  ...  26.6                     0.351   31\n",
              "2            8    183.0             64  ...  23.3                     0.672   32\n",
              "3            1     89.0             66  ...  28.1                     0.167   21\n",
              "4            0    137.0             40  ...  43.1                     2.288   33\n",
              "\n",
              "[5 rows x 8 columns]"
            ]
          },
          "metadata": {
            "tags": []
          },
          "execution_count": 6
        }
      ]
    },
    {
      "cell_type": "code",
      "metadata": {
        "colab": {
          "base_uri": "https://localhost:8080/"
        },
        "id": "wcCbapiaMdeu",
        "outputId": "675ea264-cb0e-4d84-dd33-869c8b34ca60"
      },
      "source": [
        "y.head()"
      ],
      "execution_count": null,
      "outputs": [
        {
          "output_type": "execute_result",
          "data": {
            "text/plain": [
              "0    1\n",
              "1    0\n",
              "2    1\n",
              "3    0\n",
              "4    1\n",
              "Name: Outcome, dtype: int64"
            ]
          },
          "metadata": {
            "tags": []
          },
          "execution_count": 7
        }
      ]
    },
    {
      "cell_type": "code",
      "metadata": {
        "id": "oEBQzFgCNLuB"
      },
      "source": [
        "# Train Test Split\r\n",
        "from sklearn.model_selection import train_test_split\r\n",
        "x_train,x_test,y_train,y_test=train_test_split(x,y,test_size=0.20,random_state=33)"
      ],
      "execution_count": null,
      "outputs": []
    },
    {
      "cell_type": "code",
      "metadata": {
        "id": "xOOmh2QtNkij"
      },
      "source": [
        "from sklearn.ensemble import RandomForestClassifier\r\n",
        "rfc=RandomForestClassifier(n_estimators=10).fit(x_train,y_train)\r\n",
        "pred=rfc.predict(x_test)"
      ],
      "execution_count": null,
      "outputs": []
    },
    {
      "cell_type": "code",
      "metadata": {
        "colab": {
          "base_uri": "https://localhost:8080/"
        },
        "id": "nx6YwG8-OFbW",
        "outputId": "8cab9eb4-ac2e-4969-b043-4dbd10ac30f7"
      },
      "source": [
        "y.value_counts()"
      ],
      "execution_count": null,
      "outputs": [
        {
          "output_type": "execute_result",
          "data": {
            "text/plain": [
              "0    500\n",
              "1    268\n",
              "Name: Outcome, dtype: int64"
            ]
          },
          "metadata": {
            "tags": []
          },
          "execution_count": 10
        }
      ]
    },
    {
      "cell_type": "code",
      "metadata": {
        "colab": {
          "base_uri": "https://localhost:8080/"
        },
        "id": "J5v-lH_YOJHQ",
        "outputId": "a38437bc-95e0-4915-f122-ca5a5a925bd8"
      },
      "source": [
        "from sklearn.metrics import confusion_matrix,classification_report,accuracy_score\r\n",
        "print(confusion_matrix(y_test,pred))\r\n",
        "print(accuracy_score(y_test,pred))\r\n",
        "print(classification_report(y_test,pred))"
      ],
      "execution_count": null,
      "outputs": [
        {
          "output_type": "stream",
          "text": [
            "[[86 13]\n",
            " [30 25]]\n",
            "0.7207792207792207\n",
            "              precision    recall  f1-score   support\n",
            "\n",
            "           0       0.74      0.87      0.80        99\n",
            "           1       0.66      0.45      0.54        55\n",
            "\n",
            "    accuracy                           0.72       154\n",
            "   macro avg       0.70      0.66      0.67       154\n",
            "weighted avg       0.71      0.72      0.71       154\n",
            "\n"
          ],
          "name": "stdout"
        }
      ]
    },
    {
      "cell_type": "markdown",
      "metadata": {
        "id": "VFYvdjyEUV78"
      },
      "source": [
        "# **Manual Hyperparameter Tuning**"
      ]
    },
    {
      "cell_type": "code",
      "metadata": {
        "colab": {
          "base_uri": "https://localhost:8080/"
        },
        "id": "G1lleOtQOrtS",
        "outputId": "b1ea3f4b-321e-4f13-d95b-3f4e56689b63"
      },
      "source": [
        "model=RandomForestClassifier(n_estimators=300,criterion='entropy',max_features='sqrt',min_samples_leaf=10,random_state=100).fit(x_train,y_train)\r\n",
        "pred=model.predict(x_test)\r\n",
        "print(confusion_matrix(y_test,pred))\r\n",
        "print(accuracy_score(y_test,pred))\r\n",
        "print(classification_report(y_test,pred))"
      ],
      "execution_count": null,
      "outputs": [
        {
          "output_type": "stream",
          "text": [
            "[[87 12]\n",
            " [28 27]]\n",
            "0.7402597402597403\n",
            "              precision    recall  f1-score   support\n",
            "\n",
            "           0       0.76      0.88      0.81        99\n",
            "           1       0.69      0.49      0.57        55\n",
            "\n",
            "    accuracy                           0.74       154\n",
            "   macro avg       0.72      0.68      0.69       154\n",
            "weighted avg       0.73      0.74      0.73       154\n",
            "\n"
          ],
          "name": "stdout"
        }
      ]
    },
    {
      "cell_type": "markdown",
      "metadata": {
        "id": "ZGyRpM4cVh7F"
      },
      "source": [
        "# **Randomized Search CV**"
      ]
    },
    {
      "cell_type": "code",
      "metadata": {
        "id": "sy0OxcU4VM4T"
      },
      "source": [
        "import numpy as np\r\n",
        "from sklearn.model_selection import RandomizedSearchCV\r\n",
        "#Number of trees in random forest\r\n",
        "n_estimators=[int(x) for x in np.linspace(start=200,stop=2000,num=10)]\r\n",
        "#Number of features to consider at every split\r\n",
        "max_features=['auto','sqrt','log2']\r\n",
        "#Maximum number of levels in tree\r\n",
        "max_depth=[int(x) for x in np.linspace(10,1000,10)]\r\n",
        "#Minimum number of samples required to split a node\r\n",
        "min_samples_split=[1,3,4,5,7,9]\r\n",
        "#Minimum number of samples required at each leaf node\r\n",
        "min_samples_leaf=[1,2,4,6,8]\r\n",
        "#Create the random grid\r\n",
        "random_grid={'n_estimators':n_estimators,\r\n",
        "             'max_features':max_features,\r\n",
        "             'max_depth':max_depth,\r\n",
        "             'min_samples_split':min_samples_split,\r\n",
        "             'min_samples_leaf':min_samples_leaf,\r\n",
        "             'criterion':['entropy','gini']}"
      ],
      "execution_count": null,
      "outputs": []
    },
    {
      "cell_type": "code",
      "metadata": {
        "colab": {
          "base_uri": "https://localhost:8080/"
        },
        "id": "1rRlj_7hYkv9",
        "outputId": "a25e4d3f-60f5-403f-ffbc-c6c0e66c4461"
      },
      "source": [
        "random_grid"
      ],
      "execution_count": null,
      "outputs": [
        {
          "output_type": "execute_result",
          "data": {
            "text/plain": [
              "{'criterion': ['entropy', 'gini'],\n",
              " 'max_depth': [10, 120, 230, 340, 450, 560, 670, 780, 890, 1000],\n",
              " 'max_features': ['auto', 'sqrt', 'log2'],\n",
              " 'min_samples_leaf': [1, 2, 4, 6, 8],\n",
              " 'min_samples_split': [1, 3, 4, 5, 7, 9],\n",
              " 'n_estimators': [200, 400, 600, 800, 1000, 1200, 1400, 1600, 1800, 2000]}"
            ]
          },
          "metadata": {
            "tags": []
          },
          "execution_count": 14
        }
      ]
    },
    {
      "cell_type": "code",
      "metadata": {
        "colab": {
          "base_uri": "https://localhost:8080/"
        },
        "id": "B-NbE2hXarsP",
        "outputId": "56000709-91d5-4f44-9382-c0c774fc82cf"
      },
      "source": [
        "rf=RandomForestClassifier()\r\n",
        "rf_randomcv=RandomizedSearchCV(estimator=rf,param_distributions=random_grid,n_iter=100,cv=3,verbose=2,random_state=100,n_jobs=-1)\r\n",
        "#fit the randomized model\r\n",
        "rf_randomcv.fit(x_train,y_train)"
      ],
      "execution_count": null,
      "outputs": [
        {
          "output_type": "stream",
          "text": [
            "Fitting 3 folds for each of 100 candidates, totalling 300 fits\n"
          ],
          "name": "stdout"
        },
        {
          "output_type": "stream",
          "text": [
            "[Parallel(n_jobs=-1)]: Using backend LokyBackend with 2 concurrent workers.\n",
            "[Parallel(n_jobs=-1)]: Done  37 tasks      | elapsed:  1.1min\n",
            "[Parallel(n_jobs=-1)]: Done 158 tasks      | elapsed:  3.8min\n",
            "[Parallel(n_jobs=-1)]: Done 300 out of 300 | elapsed:  8.0min finished\n"
          ],
          "name": "stderr"
        },
        {
          "output_type": "execute_result",
          "data": {
            "text/plain": [
              "RandomizedSearchCV(cv=3, error_score=nan,\n",
              "                   estimator=RandomForestClassifier(bootstrap=True,\n",
              "                                                    ccp_alpha=0.0,\n",
              "                                                    class_weight=None,\n",
              "                                                    criterion='gini',\n",
              "                                                    max_depth=None,\n",
              "                                                    max_features='auto',\n",
              "                                                    max_leaf_nodes=None,\n",
              "                                                    max_samples=None,\n",
              "                                                    min_impurity_decrease=0.0,\n",
              "                                                    min_impurity_split=None,\n",
              "                                                    min_samples_leaf=1,\n",
              "                                                    min_samples_split=2,\n",
              "                                                    min_weight_fraction_leaf=0.0,\n",
              "                                                    n_estimators=100,\n",
              "                                                    n_jobs...\n",
              "                   param_distributions={'criterion': ['entropy', 'gini'],\n",
              "                                        'max_depth': [10, 120, 230, 340, 450,\n",
              "                                                      560, 670, 780, 890,\n",
              "                                                      1000],\n",
              "                                        'max_features': ['auto', 'sqrt',\n",
              "                                                         'log2'],\n",
              "                                        'min_samples_leaf': [1, 2, 4, 6, 8],\n",
              "                                        'min_samples_split': [1, 3, 4, 5, 7, 9],\n",
              "                                        'n_estimators': [200, 400, 600, 800,\n",
              "                                                         1000, 1200, 1400, 1600,\n",
              "                                                         1800, 2000]},\n",
              "                   pre_dispatch='2*n_jobs', random_state=100, refit=True,\n",
              "                   return_train_score=False, scoring=None, verbose=2)"
            ]
          },
          "metadata": {
            "tags": []
          },
          "execution_count": 15
        }
      ]
    },
    {
      "cell_type": "code",
      "metadata": {
        "colab": {
          "base_uri": "https://localhost:8080/"
        },
        "id": "uPgRYRVUctR3",
        "outputId": "bb46cab1-5d70-4a75-8bec-0b4b13e826bd"
      },
      "source": [
        "rf_randomcv.best_params_"
      ],
      "execution_count": null,
      "outputs": [
        {
          "output_type": "execute_result",
          "data": {
            "text/plain": [
              "{'criterion': 'gini',\n",
              " 'max_depth': 780,\n",
              " 'max_features': 'auto',\n",
              " 'min_samples_leaf': 2,\n",
              " 'min_samples_split': 5,\n",
              " 'n_estimators': 200}"
            ]
          },
          "metadata": {
            "tags": []
          },
          "execution_count": 16
        }
      ]
    },
    {
      "cell_type": "code",
      "metadata": {
        "colab": {
          "base_uri": "https://localhost:8080/"
        },
        "id": "vG-e87l9duHC",
        "outputId": "0c4a2667-c27a-4391-ec61-777387b0ff37"
      },
      "source": [
        "rf_randomcv.best_estimator_"
      ],
      "execution_count": null,
      "outputs": [
        {
          "output_type": "execute_result",
          "data": {
            "text/plain": [
              "RandomForestClassifier(bootstrap=True, ccp_alpha=0.0, class_weight=None,\n",
              "                       criterion='gini', max_depth=780, max_features='auto',\n",
              "                       max_leaf_nodes=None, max_samples=None,\n",
              "                       min_impurity_decrease=0.0, min_impurity_split=None,\n",
              "                       min_samples_leaf=2, min_samples_split=5,\n",
              "                       min_weight_fraction_leaf=0.0, n_estimators=200,\n",
              "                       n_jobs=None, oob_score=False, random_state=None,\n",
              "                       verbose=0, warm_start=False)"
            ]
          },
          "metadata": {
            "tags": []
          },
          "execution_count": 17
        }
      ]
    },
    {
      "cell_type": "code",
      "metadata": {
        "colab": {
          "base_uri": "https://localhost:8080/"
        },
        "id": "sVchKEFadlh4",
        "outputId": "203aaa0d-aff2-4f05-b0df-f6aa419caf0f"
      },
      "source": [
        "rf_randomcv"
      ],
      "execution_count": null,
      "outputs": [
        {
          "output_type": "execute_result",
          "data": {
            "text/plain": [
              "RandomizedSearchCV(cv=3, error_score=nan,\n",
              "                   estimator=RandomForestClassifier(bootstrap=True,\n",
              "                                                    ccp_alpha=0.0,\n",
              "                                                    class_weight=None,\n",
              "                                                    criterion='gini',\n",
              "                                                    max_depth=None,\n",
              "                                                    max_features='auto',\n",
              "                                                    max_leaf_nodes=None,\n",
              "                                                    max_samples=None,\n",
              "                                                    min_impurity_decrease=0.0,\n",
              "                                                    min_impurity_split=None,\n",
              "                                                    min_samples_leaf=1,\n",
              "                                                    min_samples_split=2,\n",
              "                                                    min_weight_fraction_leaf=0.0,\n",
              "                                                    n_estimators=100,\n",
              "                                                    n_jobs...\n",
              "                   param_distributions={'criterion': ['entropy', 'gini'],\n",
              "                                        'max_depth': [10, 120, 230, 340, 450,\n",
              "                                                      560, 670, 780, 890,\n",
              "                                                      1000],\n",
              "                                        'max_features': ['auto', 'sqrt',\n",
              "                                                         'log2'],\n",
              "                                        'min_samples_leaf': [1, 2, 4, 6, 8],\n",
              "                                        'min_samples_split': [1, 3, 4, 5, 7, 9],\n",
              "                                        'n_estimators': [200, 400, 600, 800,\n",
              "                                                         1000, 1200, 1400, 1600,\n",
              "                                                         1800, 2000]},\n",
              "                   pre_dispatch='2*n_jobs', random_state=100, refit=True,\n",
              "                   return_train_score=False, scoring=None, verbose=2)"
            ]
          },
          "metadata": {
            "tags": []
          },
          "execution_count": 18
        }
      ]
    },
    {
      "cell_type": "code",
      "metadata": {
        "id": "LDJ-wPdhdoOE"
      },
      "source": [
        "brg=rf_randomcv.best_estimator_"
      ],
      "execution_count": null,
      "outputs": []
    },
    {
      "cell_type": "code",
      "metadata": {
        "colab": {
          "base_uri": "https://localhost:8080/"
        },
        "id": "Wq_B0K2ud9hL",
        "outputId": "2ee9ca97-ad6f-4beb-a00e-c9b7d40f94d5"
      },
      "source": [
        "from sklearn.metrics import accuracy_score\r\n",
        "y_pred=brg.predict(x_test)\r\n",
        "print(confusion_matrix(y_test,y_pred))\r\n",
        "print('Accuracy Score {}'.format(accuracy_score(y_test,y_pred)))\r\n",
        "print(\"Classification report {}\".format(classification_report(y_test,y_pred)))"
      ],
      "execution_count": null,
      "outputs": [
        {
          "output_type": "stream",
          "text": [
            "[[83 16]\n",
            " [23 32]]\n",
            "Accuracy Score 0.7467532467532467\n",
            "Classification report               precision    recall  f1-score   support\n",
            "\n",
            "           0       0.78      0.84      0.81        99\n",
            "           1       0.67      0.58      0.62        55\n",
            "\n",
            "    accuracy                           0.75       154\n",
            "   macro avg       0.72      0.71      0.72       154\n",
            "weighted avg       0.74      0.75      0.74       154\n",
            "\n"
          ],
          "name": "stdout"
        }
      ]
    },
    {
      "cell_type": "markdown",
      "metadata": {
        "id": "u2qCJ0gCe-uV"
      },
      "source": [
        "# **GridSearch CV**"
      ]
    },
    {
      "cell_type": "code",
      "metadata": {
        "colab": {
          "base_uri": "https://localhost:8080/"
        },
        "id": "9wI0wPR6eyg6",
        "outputId": "796de800-c1bf-461f-a9b6-a16b168f5a80"
      },
      "source": [
        "rf_randomcv.best_params_"
      ],
      "execution_count": null,
      "outputs": [
        {
          "output_type": "execute_result",
          "data": {
            "text/plain": [
              "{'criterion': 'gini',\n",
              " 'max_depth': 780,\n",
              " 'max_features': 'auto',\n",
              " 'min_samples_leaf': 2,\n",
              " 'min_samples_split': 5,\n",
              " 'n_estimators': 200}"
            ]
          },
          "metadata": {
            "tags": []
          },
          "execution_count": 21
        }
      ]
    },
    {
      "cell_type": "code",
      "metadata": {
        "colab": {
          "base_uri": "https://localhost:8080/"
        },
        "id": "zpvYDgkofMwe",
        "outputId": "fd0c36d5-851b-4720-ee14-2fb7af501d6c"
      },
      "source": [
        "from sklearn.model_selection import GridSearchCV\r\n",
        "pg={'criterion':[rf_randomcv.best_params_['criterion']],\r\n",
        "    'max_depth':[rf_randomcv.best_params_['max_depth']],\r\n",
        "    'max_features':[rf_randomcv.best_params_['max_features']],\r\n",
        "    'min_samples_leaf':[rf_randomcv.best_params_['min_samples_leaf'],\r\n",
        "                        rf_randomcv.best_params_['min_samples_leaf']+2,\r\n",
        "                        rf_randomcv.best_params_['min_samples_leaf']+4],\r\n",
        "    'min_samples_split': [rf_randomcv.best_params_['min_samples_split'] - 2,\r\n",
        "                          rf_randomcv.best_params_['min_samples_split'] - 1,\r\n",
        "                          rf_randomcv.best_params_['min_samples_split'], \r\n",
        "                          rf_randomcv.best_params_['min_samples_split'] +1,\r\n",
        "                          rf_randomcv.best_params_['min_samples_split'] + 2],\r\n",
        "    'n_estimators': [rf_randomcv.best_params_['n_estimators'] - 200, rf_randomcv.best_params_['n_estimators'] - 100, \r\n",
        "                     rf_randomcv.best_params_['n_estimators'], \r\n",
        "                     rf_randomcv.best_params_['n_estimators'] + 100, rf_randomcv.best_params_['n_estimators'] + 200]\r\n",
        "}\r\n",
        "pg\r\n"
      ],
      "execution_count": null,
      "outputs": [
        {
          "output_type": "execute_result",
          "data": {
            "text/plain": [
              "{'criterion': ['gini'],\n",
              " 'max_depth': [780],\n",
              " 'max_features': ['auto'],\n",
              " 'min_samples_leaf': [2, 4, 6],\n",
              " 'min_samples_split': [3, 4, 5, 6, 7],\n",
              " 'n_estimators': [0, 100, 200, 300, 400]}"
            ]
          },
          "metadata": {
            "tags": []
          },
          "execution_count": 22
        }
      ]
    },
    {
      "cell_type": "code",
      "metadata": {
        "colab": {
          "base_uri": "https://localhost:8080/"
        },
        "id": "gAtWkd54g4ZN",
        "outputId": "9cb1438e-fc71-49ac-ec94-607068369895"
      },
      "source": [
        "# fit the grid_search to the data\r\n",
        "rf=RandomForestClassifier()\r\n",
        "grid_search=GridSearchCV(estimator=rf,param_grid=pg,cv=10,n_jobs=-1,verbose=2)\r\n",
        "grid_search.fit(x_train,y_train)"
      ],
      "execution_count": null,
      "outputs": [
        {
          "output_type": "stream",
          "text": [
            "Fitting 10 folds for each of 75 candidates, totalling 750 fits\n"
          ],
          "name": "stdout"
        },
        {
          "output_type": "stream",
          "text": [
            "[Parallel(n_jobs=-1)]: Using backend LokyBackend with 2 concurrent workers.\n",
            "[Parallel(n_jobs=-1)]: Done  65 tasks      | elapsed:   16.8s\n",
            "[Parallel(n_jobs=-1)]: Done 186 tasks      | elapsed:   54.5s\n",
            "[Parallel(n_jobs=-1)]: Done 389 tasks      | elapsed:  2.0min\n",
            "[Parallel(n_jobs=-1)]: Done 672 tasks      | elapsed:  3.4min\n",
            "[Parallel(n_jobs=-1)]: Done 750 out of 750 | elapsed:  3.9min finished\n"
          ],
          "name": "stderr"
        },
        {
          "output_type": "execute_result",
          "data": {
            "text/plain": [
              "GridSearchCV(cv=10, error_score=nan,\n",
              "             estimator=RandomForestClassifier(bootstrap=True, ccp_alpha=0.0,\n",
              "                                              class_weight=None,\n",
              "                                              criterion='gini', max_depth=None,\n",
              "                                              max_features='auto',\n",
              "                                              max_leaf_nodes=None,\n",
              "                                              max_samples=None,\n",
              "                                              min_impurity_decrease=0.0,\n",
              "                                              min_impurity_split=None,\n",
              "                                              min_samples_leaf=1,\n",
              "                                              min_samples_split=2,\n",
              "                                              min_weight_fraction_leaf=0.0,\n",
              "                                              n_estimators=100, n_jobs=None,\n",
              "                                              oob_score=False,\n",
              "                                              random_state=None, verbose=0,\n",
              "                                              warm_start=False),\n",
              "             iid='deprecated', n_jobs=-1,\n",
              "             param_grid={'criterion': ['gini'], 'max_depth': [780],\n",
              "                         'max_features': ['auto'],\n",
              "                         'min_samples_leaf': [2, 4, 6],\n",
              "                         'min_samples_split': [3, 4, 5, 6, 7],\n",
              "                         'n_estimators': [0, 100, 200, 300, 400]},\n",
              "             pre_dispatch='2*n_jobs', refit=True, return_train_score=False,\n",
              "             scoring=None, verbose=2)"
            ]
          },
          "metadata": {
            "tags": []
          },
          "execution_count": 23
        }
      ]
    },
    {
      "cell_type": "code",
      "metadata": {
        "colab": {
          "base_uri": "https://localhost:8080/"
        },
        "id": "IBZTynAnjEn9",
        "outputId": "ac35da17-326a-46eb-b31d-40c142acd90d"
      },
      "source": [
        "grid_search.best_estimator_"
      ],
      "execution_count": null,
      "outputs": [
        {
          "output_type": "execute_result",
          "data": {
            "text/plain": [
              "RandomForestClassifier(bootstrap=True, ccp_alpha=0.0, class_weight=None,\n",
              "                       criterion='gini', max_depth=780, max_features='auto',\n",
              "                       max_leaf_nodes=None, max_samples=None,\n",
              "                       min_impurity_decrease=0.0, min_impurity_split=None,\n",
              "                       min_samples_leaf=2, min_samples_split=5,\n",
              "                       min_weight_fraction_leaf=0.0, n_estimators=100,\n",
              "                       n_jobs=None, oob_score=False, random_state=None,\n",
              "                       verbose=0, warm_start=False)"
            ]
          },
          "metadata": {
            "tags": []
          },
          "execution_count": 24
        }
      ]
    },
    {
      "cell_type": "code",
      "metadata": {
        "id": "rbp8mfPVja_C"
      },
      "source": [
        "bg=grid_search.best_estimator_"
      ],
      "execution_count": null,
      "outputs": []
    },
    {
      "cell_type": "code",
      "metadata": {
        "colab": {
          "base_uri": "https://localhost:8080/"
        },
        "id": "C_PB4q1-jgVt",
        "outputId": "84ec49bf-25ff-4453-a12d-254849544504"
      },
      "source": [
        "bg"
      ],
      "execution_count": null,
      "outputs": [
        {
          "output_type": "execute_result",
          "data": {
            "text/plain": [
              "RandomForestClassifier(bootstrap=True, ccp_alpha=0.0, class_weight=None,\n",
              "                       criterion='gini', max_depth=780, max_features='auto',\n",
              "                       max_leaf_nodes=None, max_samples=None,\n",
              "                       min_impurity_decrease=0.0, min_impurity_split=None,\n",
              "                       min_samples_leaf=2, min_samples_split=5,\n",
              "                       min_weight_fraction_leaf=0.0, n_estimators=100,\n",
              "                       n_jobs=None, oob_score=False, random_state=None,\n",
              "                       verbose=0, warm_start=False)"
            ]
          },
          "metadata": {
            "tags": []
          },
          "execution_count": 26
        }
      ]
    },
    {
      "cell_type": "code",
      "metadata": {
        "colab": {
          "base_uri": "https://localhost:8080/"
        },
        "id": "rh9hwcUbjtPg",
        "outputId": "d7748f9e-57d7-4fd1-d228-2b5b1417cab2"
      },
      "source": [
        "y_pred=bg.predict(x_test)\r\n",
        "print(confusion_matrix(y_test,y_pred))\r\n",
        "print(\"Accuracy Score {}\".format(accuracy_score(y_test,y_pred)))\r\n",
        "print(\"Classification report: {}\".format(classification_report(y_test,y_pred)))"
      ],
      "execution_count": null,
      "outputs": [
        {
          "output_type": "stream",
          "text": [
            "[[90  9]\n",
            " [23 32]]\n",
            "Accuracy Score 0.7922077922077922\n",
            "Classification report:               precision    recall  f1-score   support\n",
            "\n",
            "           0       0.80      0.91      0.85        99\n",
            "           1       0.78      0.58      0.67        55\n",
            "\n",
            "    accuracy                           0.79       154\n",
            "   macro avg       0.79      0.75      0.76       154\n",
            "weighted avg       0.79      0.79      0.78       154\n",
            "\n"
          ],
          "name": "stdout"
        }
      ]
    },
    {
      "cell_type": "markdown",
      "metadata": {
        "id": "A8zrl8FJkg5k"
      },
      "source": [
        "# **Automated Hyperparameter Tuning**"
      ]
    },
    {
      "cell_type": "markdown",
      "metadata": {
        "id": "ufMqIb8XlCrL"
      },
      "source": [
        "# **Bayesian Optimization**"
      ]
    },
    {
      "cell_type": "code",
      "metadata": {
        "colab": {
          "base_uri": "https://localhost:8080/"
        },
        "id": "2lsEfMb9kmIL",
        "outputId": "b5b71787-ea60-4b5e-c24e-9383f364671a"
      },
      "source": [
        "pip install hyperopt"
      ],
      "execution_count": null,
      "outputs": [
        {
          "output_type": "stream",
          "text": [
            "Requirement already satisfied: hyperopt in /usr/local/lib/python3.6/dist-packages (0.1.2)\n",
            "Requirement already satisfied: six in /usr/local/lib/python3.6/dist-packages (from hyperopt) (1.15.0)\n",
            "Requirement already satisfied: pymongo in /usr/local/lib/python3.6/dist-packages (from hyperopt) (3.11.3)\n",
            "Requirement already satisfied: numpy in /usr/local/lib/python3.6/dist-packages (from hyperopt) (1.19.5)\n",
            "Requirement already satisfied: scipy in /usr/local/lib/python3.6/dist-packages (from hyperopt) (1.4.1)\n",
            "Requirement already satisfied: networkx in /usr/local/lib/python3.6/dist-packages (from hyperopt) (2.5)\n",
            "Requirement already satisfied: tqdm in /usr/local/lib/python3.6/dist-packages (from hyperopt) (4.41.1)\n",
            "Requirement already satisfied: future in /usr/local/lib/python3.6/dist-packages (from hyperopt) (0.16.0)\n",
            "Requirement already satisfied: decorator>=4.3.0 in /usr/local/lib/python3.6/dist-packages (from networkx->hyperopt) (4.4.2)\n"
          ],
          "name": "stdout"
        }
      ]
    },
    {
      "cell_type": "code",
      "metadata": {
        "id": "U09JSRNgluKR"
      },
      "source": [
        "from hyperopt import hp,fmin,tpe,STATUS_OK,Trials"
      ],
      "execution_count": null,
      "outputs": []
    },
    {
      "cell_type": "code",
      "metadata": {
        "id": "rf3xNvWlxl1B"
      },
      "source": [
        "space = {'criterion': hp.choice('criterion', ['entropy', 'gini']),\r\n",
        "        'max_depth': hp.quniform('max_depth', 10, 1200, 10),\r\n",
        "        'max_features': hp.choice('max_features', ['auto', 'sqrt','log2', None]),\r\n",
        "        'min_samples_leaf': hp.uniform('min_samples_leaf', 0, 0.5),\r\n",
        "        'min_samples_split' : hp.uniform ('min_samples_split', 0, 1),\r\n",
        "        'n_estimators' : hp.choice('n_estimators', [10, 50, 300, 750, 1200,1300,1500])\r\n",
        "    }"
      ],
      "execution_count": null,
      "outputs": []
    },
    {
      "cell_type": "code",
      "metadata": {
        "colab": {
          "base_uri": "https://localhost:8080/"
        },
        "id": "l0Pv97LgxmaA",
        "outputId": "d0e3d9be-aef0-4ea1-c955-0cbef8de6628"
      },
      "source": [
        "space"
      ],
      "execution_count": null,
      "outputs": [
        {
          "output_type": "execute_result",
          "data": {
            "text/plain": [
              "{'criterion': <hyperopt.pyll.base.Apply at 0x7f8637eef048>,\n",
              " 'max_depth': <hyperopt.pyll.base.Apply at 0x7f8637eef240>,\n",
              " 'max_features': <hyperopt.pyll.base.Apply at 0x7f8637eef358>,\n",
              " 'min_samples_leaf': <hyperopt.pyll.base.Apply at 0x7f8637eef588>,\n",
              " 'min_samples_split': <hyperopt.pyll.base.Apply at 0x7f8637eef6d8>,\n",
              " 'n_estimators': <hyperopt.pyll.base.Apply at 0x7f8637eef828>}"
            ]
          },
          "metadata": {
            "tags": []
          },
          "execution_count": 31
        }
      ]
    },
    {
      "cell_type": "code",
      "metadata": {
        "id": "Ppq7E6XfxnVZ"
      },
      "source": [
        "def objective(space):\r\n",
        "    model = RandomForestClassifier(criterion = space['criterion'], max_depth = space['max_depth'],\r\n",
        "                                 max_features = space['max_features'],\r\n",
        "                                 min_samples_leaf = space['min_samples_leaf'],\r\n",
        "                                 min_samples_split = space['min_samples_split'],\r\n",
        "                                 n_estimators = space['n_estimators'], \r\n",
        "                                 )\r\n",
        "    \r\n",
        "    accuracy = cross_val_score(model, x_train, y_train, cv = 5).mean()\r\n",
        "\r\n",
        "    # We aim to maximize accuracy, therefore we return it as a negative value\r\n",
        "    return {'loss': -accuracy, 'status': STATUS_OK }"
      ],
      "execution_count": null,
      "outputs": []
    },
    {
      "cell_type": "code",
      "metadata": {
        "colab": {
          "base_uri": "https://localhost:8080/"
        },
        "id": "4eyOSOPwx1Gt",
        "outputId": "bb57ec1d-3887-4b4a-98ac-abce83eb8d88"
      },
      "source": [
        "from sklearn.model_selection import cross_val_score\r\n",
        "trials = Trials()\r\n",
        "best = fmin(fn= objective,\r\n",
        "            space= space,\r\n",
        "            algo= tpe.suggest,\r\n",
        "            max_evals = 80,\r\n",
        "            trials= trials)\r\n",
        "best"
      ],
      "execution_count": null,
      "outputs": [
        {
          "output_type": "stream",
          "text": [
            "100%|██████████| 80/80 [10:21<00:00,  7.77s/it, best loss: -0.7719978675196588]\n"
          ],
          "name": "stdout"
        },
        {
          "output_type": "execute_result",
          "data": {
            "text/plain": [
              "{'criterion': 0,\n",
              " 'max_depth': 580.0,\n",
              " 'max_features': 3,\n",
              " 'min_samples_leaf': 0.02284338590694948,\n",
              " 'min_samples_split': 0.11154344963242861,\n",
              " 'n_estimators': 5}"
            ]
          },
          "metadata": {
            "tags": []
          },
          "execution_count": 33
        }
      ]
    },
    {
      "cell_type": "code",
      "metadata": {
        "colab": {
          "base_uri": "https://localhost:8080/"
        },
        "id": "mrZsoPOOzWOz",
        "outputId": "6e61e88a-aef3-48b1-cf56-55fb1d199150"
      },
      "source": [
        "crit = {0: 'entropy', 1: 'gini'}\r\n",
        "feat = {0: 'auto', 1: 'sqrt', 2: 'log2', 3: None}\r\n",
        "est = {0: 10, 1: 50, 2: 300, 3: 750, 4: 1200,5:1300,6:1500}\r\n",
        "\r\n",
        "\r\n",
        "print(crit[best['criterion']])\r\n",
        "print(feat[best['max_features']])\r\n",
        "print(est[best['n_estimators']])"
      ],
      "execution_count": null,
      "outputs": [
        {
          "output_type": "stream",
          "text": [
            "entropy\n",
            "None\n",
            "1300\n"
          ],
          "name": "stdout"
        }
      ]
    },
    {
      "cell_type": "code",
      "metadata": {
        "colab": {
          "base_uri": "https://localhost:8080/"
        },
        "id": "F0Q0ZqNO0Y6E",
        "outputId": "5c3aea34-2a0b-4d9a-9bab-1e650be54e1b"
      },
      "source": [
        "best['min_samples_leaf']"
      ],
      "execution_count": null,
      "outputs": [
        {
          "output_type": "execute_result",
          "data": {
            "text/plain": [
              "0.02284338590694948"
            ]
          },
          "metadata": {
            "tags": []
          },
          "execution_count": 35
        }
      ]
    },
    {
      "cell_type": "code",
      "metadata": {
        "colab": {
          "base_uri": "https://localhost:8080/"
        },
        "id": "Qi05Rx7J0saJ",
        "outputId": "fe2ba2a0-6aef-4697-f8a9-5e4d3dd02099"
      },
      "source": [
        "trainedforest = RandomForestClassifier(criterion = crit[best['criterion']], max_depth = best['max_depth'], \r\n",
        "                                       max_features = feat[best['max_features']], \r\n",
        "                                       min_samples_leaf = best['min_samples_leaf'], \r\n",
        "                                       min_samples_split = best['min_samples_split'], \r\n",
        "                                       n_estimators = est[best['n_estimators']]).fit(x_train,y_train)\r\n",
        "predictionforest = trainedforest.predict(x_test)\r\n",
        "print(confusion_matrix(y_test,predictionforest))\r\n",
        "print(accuracy_score(y_test,predictionforest))\r\n",
        "print(classification_report(y_test,predictionforest))\r\n",
        "acc5 = accuracy_score(y_test,predictionforest)"
      ],
      "execution_count": null,
      "outputs": [
        {
          "output_type": "stream",
          "text": [
            "[[84 15]\n",
            " [25 30]]\n",
            "0.7402597402597403\n",
            "              precision    recall  f1-score   support\n",
            "\n",
            "           0       0.77      0.85      0.81        99\n",
            "           1       0.67      0.55      0.60        55\n",
            "\n",
            "    accuracy                           0.74       154\n",
            "   macro avg       0.72      0.70      0.70       154\n",
            "weighted avg       0.73      0.74      0.73       154\n",
            "\n"
          ],
          "name": "stdout"
        }
      ]
    },
    {
      "cell_type": "markdown",
      "metadata": {
        "id": "HEwBvE4a-CXq"
      },
      "source": [
        "# **Genetic Algorithms**"
      ]
    },
    {
      "cell_type": "code",
      "metadata": {
        "colab": {
          "base_uri": "https://localhost:8080/"
        },
        "id": "rxcGVtFl21zp",
        "outputId": "4923acaf-69bd-4cea-e84d-655125e8cb73"
      },
      "source": [
        "import numpy as np\r\n",
        "from sklearn.model_selection import RandomizedSearchCV\r\n",
        "# Number of trees in random forest\r\n",
        "n_estimators = [int(x) for x in np.linspace(start = 200, stop = 2000, num = 10)]\r\n",
        "# Number of features to consider at every split\r\n",
        "max_features = ['auto', 'sqrt','log2']\r\n",
        "# Maximum number of levels in tree\r\n",
        "max_depth = [int(x) for x in np.linspace(10, 1000,10)]\r\n",
        "# Minimum number of samples required to split a node\r\n",
        "min_samples_split = [2, 5, 10,14]\r\n",
        "# Minimum number of samples required at each leaf node\r\n",
        "min_samples_leaf = [1, 2, 4,6,8]\r\n",
        "# Create the random grid\r\n",
        "param = {'n_estimators': n_estimators,\r\n",
        "               'max_features': max_features,\r\n",
        "               'max_depth': max_depth,\r\n",
        "               'min_samples_split': min_samples_split,\r\n",
        "               'min_samples_leaf': min_samples_leaf,\r\n",
        "              'criterion':['entropy','gini']}\r\n",
        "print(param)"
      ],
      "execution_count": null,
      "outputs": [
        {
          "output_type": "stream",
          "text": [
            "{'n_estimators': [200, 400, 600, 800, 1000, 1200, 1400, 1600, 1800, 2000], 'max_features': ['auto', 'sqrt', 'log2'], 'max_depth': [10, 120, 230, 340, 450, 560, 670, 780, 890, 1000], 'min_samples_split': [2, 5, 10, 14], 'min_samples_leaf': [1, 2, 4, 6, 8], 'criterion': ['entropy', 'gini']}\n"
          ],
          "name": "stdout"
        }
      ]
    },
    {
      "cell_type": "code",
      "metadata": {
        "colab": {
          "base_uri": "https://localhost:8080/"
        },
        "id": "oP4m3D-9-_4d",
        "outputId": "9991b1c5-d8c5-48b6-fe0c-84d9e3dd7f44"
      },
      "source": [
        "pip install tpot"
      ],
      "execution_count": null,
      "outputs": [
        {
          "output_type": "stream",
          "text": [
            "Requirement already satisfied: tpot in /usr/local/lib/python3.6/dist-packages (0.11.7)\n",
            "Requirement already satisfied: xgboost>=1.1.0 in /usr/local/lib/python3.6/dist-packages (from tpot) (1.3.3)\n",
            "Requirement already satisfied: deap>=1.2 in /usr/local/lib/python3.6/dist-packages (from tpot) (1.3.1)\n",
            "Requirement already satisfied: numpy>=1.16.3 in /usr/local/lib/python3.6/dist-packages (from tpot) (1.19.5)\n",
            "Requirement already satisfied: scikit-learn>=0.22.0 in /usr/local/lib/python3.6/dist-packages (from tpot) (0.22.2.post1)\n",
            "Requirement already satisfied: joblib>=0.13.2 in /usr/local/lib/python3.6/dist-packages (from tpot) (1.0.0)\n",
            "Requirement already satisfied: tqdm>=4.36.1 in /usr/local/lib/python3.6/dist-packages (from tpot) (4.41.1)\n",
            "Requirement already satisfied: stopit>=1.1.1 in /usr/local/lib/python3.6/dist-packages (from tpot) (1.1.2)\n",
            "Requirement already satisfied: pandas>=0.24.2 in /usr/local/lib/python3.6/dist-packages (from tpot) (1.1.5)\n",
            "Requirement already satisfied: scipy>=1.3.1 in /usr/local/lib/python3.6/dist-packages (from tpot) (1.4.1)\n",
            "Requirement already satisfied: update-checker>=0.16 in /usr/local/lib/python3.6/dist-packages (from tpot) (0.18.0)\n",
            "Requirement already satisfied: pytz>=2017.2 in /usr/local/lib/python3.6/dist-packages (from pandas>=0.24.2->tpot) (2018.9)\n",
            "Requirement already satisfied: python-dateutil>=2.7.3 in /usr/local/lib/python3.6/dist-packages (from pandas>=0.24.2->tpot) (2.8.1)\n",
            "Requirement already satisfied: requests>=2.3.0 in /usr/local/lib/python3.6/dist-packages (from update-checker>=0.16->tpot) (2.23.0)\n",
            "Requirement already satisfied: six>=1.5 in /usr/local/lib/python3.6/dist-packages (from python-dateutil>=2.7.3->pandas>=0.24.2->tpot) (1.15.0)\n",
            "Requirement already satisfied: certifi>=2017.4.17 in /usr/local/lib/python3.6/dist-packages (from requests>=2.3.0->update-checker>=0.16->tpot) (2020.12.5)\n",
            "Requirement already satisfied: chardet<4,>=3.0.2 in /usr/local/lib/python3.6/dist-packages (from requests>=2.3.0->update-checker>=0.16->tpot) (3.0.4)\n",
            "Requirement already satisfied: idna<3,>=2.5 in /usr/local/lib/python3.6/dist-packages (from requests>=2.3.0->update-checker>=0.16->tpot) (2.10)\n",
            "Requirement already satisfied: urllib3!=1.25.0,!=1.25.1,<1.26,>=1.21.1 in /usr/local/lib/python3.6/dist-packages (from requests>=2.3.0->update-checker>=0.16->tpot) (1.24.3)\n"
          ],
          "name": "stdout"
        }
      ]
    },
    {
      "cell_type": "code",
      "metadata": {
        "colab": {
          "base_uri": "https://localhost:8080/",
          "height": 927,
          "referenced_widgets": [
            "ea0ed97a87c64928a245c03ebd31d997",
            "517c0d2e5c6e4ee7a11621b1d08cd5c7",
            "75cefed9ab9a4b3a91c9b74d1704e990",
            "7b89e44f1a9f46a783911daf7a3399f9",
            "6c34517fd4f240db87ccf5947856fc17",
            "2fa6c6e6016d4978abfef5959fff1464",
            "ed5494ccfaa6436b8b519761b0919a44",
            "df23c4b622d94fe3bd31359f42613968"
          ]
        },
        "id": "bx9q35Zd-2j5",
        "outputId": "e4f45e14-9eb5-4e72-fabb-4854be9fcf2d"
      },
      "source": [
        "from tpot import TPOTClassifier\r\n",
        "\r\n",
        "\r\n",
        "tpot_classifier = TPOTClassifier(generations= 5, population_size= 24, offspring_size= 12,\r\n",
        "                                 verbosity= 2, early_stop= 12,\r\n",
        "                                 config_dict={'sklearn.ensemble.RandomForestClassifier': param}, \r\n",
        "                                 cv = 4, scoring = 'accuracy')\r\n",
        "tpot_classifier.fit(x_train,y_train)"
      ],
      "execution_count": null,
      "outputs": [
        {
          "output_type": "display_data",
          "data": {
            "application/vnd.jupyter.widget-view+json": {
              "model_id": "ea0ed97a87c64928a245c03ebd31d997",
              "version_minor": 0,
              "version_major": 2
            },
            "text/plain": [
              "HBox(children=(FloatProgress(value=0.0, description='Optimization Progress', max=84.0, style=ProgressStyle(des…"
            ]
          },
          "metadata": {
            "tags": []
          }
        },
        {
          "output_type": "stream",
          "text": [
            "\r\n",
            "Generation 1 - Current best internal CV score: 0.7818521347933113\n",
            "\n",
            "Generation 2 - Current best internal CV score: 0.7818521347933113\n",
            "\n",
            "Generation 3 - Current best internal CV score: 0.7818521347933113\n",
            "\n",
            "Generation 4 - Current best internal CV score: 0.7818521347933113\n",
            "\n",
            "Generation 5 - Current best internal CV score: 0.7818521347933113\n",
            "\n",
            "Best pipeline: RandomForestClassifier(RandomForestClassifier(input_matrix, criterion=entropy, max_depth=670, max_features=auto, min_samples_leaf=4, min_samples_split=10, n_estimators=400), criterion=gini, max_depth=780, max_features=sqrt, min_samples_leaf=6, min_samples_split=14, n_estimators=2000)\n"
          ],
          "name": "stdout"
        },
        {
          "output_type": "execute_result",
          "data": {
            "text/plain": [
              "TPOTClassifier(config_dict={'sklearn.ensemble.RandomForestClassifier': {'criterion': ['entropy',\n",
              "                                                                                      'gini'],\n",
              "                                                                        'max_depth': [10,\n",
              "                                                                                      120,\n",
              "                                                                                      230,\n",
              "                                                                                      340,\n",
              "                                                                                      450,\n",
              "                                                                                      560,\n",
              "                                                                                      670,\n",
              "                                                                                      780,\n",
              "                                                                                      890,\n",
              "                                                                                      1000],\n",
              "                                                                        'max_features': ['auto',\n",
              "                                                                                         'sqrt',\n",
              "                                                                                         'log2'],\n",
              "                                                                        'min_samples_leaf': [1,\n",
              "                                                                                             2,\n",
              "                                                                                             4,\n",
              "                                                                                             6,\n",
              "                                                                                             8],\n",
              "                                                                        'min_samples_split': [2,\n",
              "                                                                                              5,\n",
              "                                                                                              10,\n",
              "                                                                                              14],\n",
              "                                                                        'n_estimators': [200,\n",
              "                                                                                         400,\n",
              "                                                                                         600,\n",
              "                                                                                         800,\n",
              "                                                                                         1000,\n",
              "                                                                                         1200,\n",
              "                                                                                         1400,\n",
              "                                                                                         1600,\n",
              "                                                                                         1800,\n",
              "                                                                                         2000]}},\n",
              "               crossover_rate=0.1, cv=4, disable_update_check=False,\n",
              "               early_stop=12, generations=5, log_file=None,\n",
              "               max_eval_time_mins=5, max_time_mins=None, memory=None,\n",
              "               mutation_rate=0.9, n_jobs=1, offspring_size=12,\n",
              "               periodic_checkpoint_folder=None, population_size=24,\n",
              "               random_state=None, scoring='accuracy', subsample=1.0,\n",
              "               template=None, use_dask=False, verbosity=2, warm_start=False)"
            ]
          },
          "metadata": {
            "tags": []
          },
          "execution_count": 39
        }
      ]
    },
    {
      "cell_type": "code",
      "metadata": {
        "colab": {
          "base_uri": "https://localhost:8080/"
        },
        "id": "7a1w9vp0-89Q",
        "outputId": "aec15231-9f1a-4f32-c8ad-1a0c4c80a76b"
      },
      "source": [
        "accuracy = tpot_classifier.score(x_test, y_test)\r\n",
        "print(accuracy)"
      ],
      "execution_count": null,
      "outputs": [
        {
          "output_type": "stream",
          "text": [
            "0.7402597402597403\n"
          ],
          "name": "stdout"
        }
      ]
    },
    {
      "cell_type": "markdown",
      "metadata": {
        "id": "g2VKLH9oEW2F"
      },
      "source": [
        "# **Optimize hyperparameters of the model using Optuna**"
      ]
    },
    {
      "cell_type": "code",
      "metadata": {
        "colab": {
          "base_uri": "https://localhost:8080/"
        },
        "id": "j0sio4HIEpBF",
        "outputId": "db513d23-cf36-4ee7-a6b7-a0048702096b"
      },
      "source": [
        "pip install optuna"
      ],
      "execution_count": null,
      "outputs": [
        {
          "output_type": "stream",
          "text": [
            "Requirement already satisfied: optuna in /usr/local/lib/python3.6/dist-packages (2.5.0)\n",
            "Requirement already satisfied: joblib in /usr/local/lib/python3.6/dist-packages (from optuna) (1.0.0)\n",
            "Requirement already satisfied: colorlog in /usr/local/lib/python3.6/dist-packages (from optuna) (4.7.2)\n",
            "Requirement already satisfied: packaging>=20.0 in /usr/local/lib/python3.6/dist-packages (from optuna) (20.9)\n",
            "Requirement already satisfied: numpy in /usr/local/lib/python3.6/dist-packages (from optuna) (1.19.5)\n",
            "Requirement already satisfied: sqlalchemy>=1.1.0 in /usr/local/lib/python3.6/dist-packages (from optuna) (1.3.23)\n",
            "Requirement already satisfied: tqdm in /usr/local/lib/python3.6/dist-packages (from optuna) (4.41.1)\n",
            "Requirement already satisfied: alembic in /usr/local/lib/python3.6/dist-packages (from optuna) (1.5.4)\n",
            "Requirement already satisfied: cliff in /usr/local/lib/python3.6/dist-packages (from optuna) (3.6.0)\n",
            "Requirement already satisfied: cmaes>=0.6.0 in /usr/local/lib/python3.6/dist-packages (from optuna) (0.8.1)\n",
            "Requirement already satisfied: scipy!=1.4.0 in /usr/local/lib/python3.6/dist-packages (from optuna) (1.4.1)\n",
            "Requirement already satisfied: pyparsing>=2.0.2 in /usr/local/lib/python3.6/dist-packages (from packaging>=20.0->optuna) (2.4.7)\n",
            "Requirement already satisfied: python-dateutil in /usr/local/lib/python3.6/dist-packages (from alembic->optuna) (2.8.1)\n",
            "Requirement already satisfied: Mako in /usr/local/lib/python3.6/dist-packages (from alembic->optuna) (1.1.4)\n",
            "Requirement already satisfied: python-editor>=0.3 in /usr/local/lib/python3.6/dist-packages (from alembic->optuna) (1.0.4)\n",
            "Requirement already satisfied: cmd2!=0.8.3,>=0.8.0 in /usr/local/lib/python3.6/dist-packages (from cliff->optuna) (1.5.0)\n",
            "Requirement already satisfied: stevedore>=2.0.1 in /usr/local/lib/python3.6/dist-packages (from cliff->optuna) (3.3.0)\n",
            "Requirement already satisfied: pbr!=2.1.0,>=2.0.0 in /usr/local/lib/python3.6/dist-packages (from cliff->optuna) (5.5.1)\n",
            "Requirement already satisfied: PyYAML>=3.12 in /usr/local/lib/python3.6/dist-packages (from cliff->optuna) (3.13)\n",
            "Requirement already satisfied: PrettyTable<0.8,>=0.7.2 in /usr/local/lib/python3.6/dist-packages (from cliff->optuna) (0.7.2)\n",
            "Requirement already satisfied: six>=1.5 in /usr/local/lib/python3.6/dist-packages (from python-dateutil->alembic->optuna) (1.15.0)\n",
            "Requirement already satisfied: MarkupSafe>=0.9.2 in /usr/local/lib/python3.6/dist-packages (from Mako->alembic->optuna) (1.1.1)\n",
            "Requirement already satisfied: attrs>=16.3.0 in /usr/local/lib/python3.6/dist-packages (from cmd2!=0.8.3,>=0.8.0->cliff->optuna) (20.3.0)\n",
            "Requirement already satisfied: colorama>=0.3.7 in /usr/local/lib/python3.6/dist-packages (from cmd2!=0.8.3,>=0.8.0->cliff->optuna) (0.4.4)\n",
            "Requirement already satisfied: importlib-metadata>=1.6.0; python_version < \"3.8\" in /usr/local/lib/python3.6/dist-packages (from cmd2!=0.8.3,>=0.8.0->cliff->optuna) (3.4.0)\n",
            "Requirement already satisfied: pyperclip>=1.6 in /usr/local/lib/python3.6/dist-packages (from cmd2!=0.8.3,>=0.8.0->cliff->optuna) (1.8.1)\n",
            "Requirement already satisfied: wcwidth>=0.1.7 in /usr/local/lib/python3.6/dist-packages (from cmd2!=0.8.3,>=0.8.0->cliff->optuna) (0.2.5)\n",
            "Requirement already satisfied: zipp>=0.5 in /usr/local/lib/python3.6/dist-packages (from importlib-metadata>=1.6.0; python_version < \"3.8\"->cmd2!=0.8.3,>=0.8.0->cliff->optuna) (3.4.0)\n",
            "Requirement already satisfied: typing-extensions>=3.6.4; python_version < \"3.8\" in /usr/local/lib/python3.6/dist-packages (from importlib-metadata>=1.6.0; python_version < \"3.8\"->cmd2!=0.8.3,>=0.8.0->cliff->optuna) (3.7.4.3)\n"
          ],
          "name": "stdout"
        }
      ]
    },
    {
      "cell_type": "code",
      "metadata": {
        "id": "9C9u3R9FCjAt"
      },
      "source": [
        "import optuna\r\n",
        "import sklearn.svm\r\n",
        "def objective(trial):\r\n",
        "\r\n",
        "    classifier = trial.suggest_categorical('classifier', ['RandomForest', 'SVC'])\r\n",
        "    \r\n",
        "    if classifier == 'RandomForest':\r\n",
        "        n_estimators = trial.suggest_int('n_estimators', 200, 2000,10)\r\n",
        "        max_depth = int(trial.suggest_float('max_depth', 10, 100, log=True))\r\n",
        "\r\n",
        "        clf = sklearn.ensemble.RandomForestClassifier(\r\n",
        "            n_estimators=n_estimators, max_depth=max_depth)\r\n",
        "    else:\r\n",
        "        c = trial.suggest_float('svc_c', 1e-10, 1e10, log=True)\r\n",
        "        \r\n",
        "        clf = sklearn.svm.SVC(C=c, gamma='auto')\r\n",
        "\r\n",
        "    return sklearn.model_selection.cross_val_score(\r\n",
        "        clf,x_train,y_train, n_jobs=-1, cv=3).mean()"
      ],
      "execution_count": null,
      "outputs": []
    },
    {
      "cell_type": "code",
      "metadata": {
        "colab": {
          "base_uri": "https://localhost:8080/"
        },
        "id": "Q8Z9n0JnEkka",
        "outputId": "0fbb4f2e-a112-4f24-ae1f-96d1a15d9f53"
      },
      "source": [
        "study = optuna.create_study(direction='maximize')\r\n",
        "study.optimize(objective, n_trials=100)\r\n",
        "\r\n",
        "trial = study.best_trial\r\n",
        "\r\n",
        "print('Accuracy: {}'.format(trial.value))\r\n",
        "print(\"Best hyperparameters: {}\".format(trial.params))"
      ],
      "execution_count": null,
      "outputs": [
        {
          "output_type": "stream",
          "text": [
            "\u001b[32m[I 2021-02-11 13:31:17,069]\u001b[0m A new study created in memory with name: no-name-1740846c-e597-459f-bc4d-bb7d619067ae\u001b[0m\n",
            "\u001b[32m[I 2021-02-11 13:31:21,171]\u001b[0m Trial 0 finished with value: 0.7655188904830225 and parameters: {'classifier': 'RandomForest', 'n_estimators': 530, 'max_depth': 41.71539855715004}. Best is trial 0 with value: 0.7655188904830225.\u001b[0m\n",
            "\u001b[32m[I 2021-02-11 13:31:21,231]\u001b[0m Trial 1 finished with value: 0.6530926191614858 and parameters: {'classifier': 'SVC', 'svc_c': 1.0036028837675584e-10}. Best is trial 0 with value: 0.7655188904830225.\u001b[0m\n",
            "\u001b[32m[I 2021-02-11 13:31:21,276]\u001b[0m Trial 2 finished with value: 0.6530926191614858 and parameters: {'classifier': 'SVC', 'svc_c': 6.762775852038727e-07}. Best is trial 0 with value: 0.7655188904830225.\u001b[0m\n",
            "\u001b[32m[I 2021-02-11 13:31:21,342]\u001b[0m Trial 3 finished with value: 0.6530926191614858 and parameters: {'classifier': 'SVC', 'svc_c': 3.632698558421729}. Best is trial 0 with value: 0.7655188904830225.\u001b[0m\n",
            "\u001b[32m[I 2021-02-11 13:31:30,403]\u001b[0m Trial 4 finished with value: 0.7638769328869759 and parameters: {'classifier': 'RandomForest', 'n_estimators': 1850, 'max_depth': 46.48366587360431}. Best is trial 0 with value: 0.7655188904830225.\u001b[0m\n",
            "\u001b[32m[I 2021-02-11 13:31:30,478]\u001b[0m Trial 5 finished with value: 0.6530926191614858 and parameters: {'classifier': 'SVC', 'svc_c': 95210.20924541175}. Best is trial 0 with value: 0.7655188904830225.\u001b[0m\n",
            "\u001b[32m[I 2021-02-11 13:31:34,501]\u001b[0m Trial 6 finished with value: 0.7638769328869759 and parameters: {'classifier': 'RandomForest', 'n_estimators': 860, 'max_depth': 19.430485057581343}. Best is trial 0 with value: 0.7655188904830225.\u001b[0m\n",
            "\u001b[32m[I 2021-02-11 13:31:34,566]\u001b[0m Trial 7 finished with value: 0.6530926191614858 and parameters: {'classifier': 'SVC', 'svc_c': 339646.17261210096}. Best is trial 0 with value: 0.7655188904830225.\u001b[0m\n",
            "\u001b[32m[I 2021-02-11 13:31:42,985]\u001b[0m Trial 8 finished with value: 0.7687788936712897 and parameters: {'classifier': 'RandomForest', 'n_estimators': 1780, 'max_depth': 68.76695572116542}. Best is trial 8 with value: 0.7687788936712897.\u001b[0m\n",
            "\u001b[32m[I 2021-02-11 13:31:51,416]\u001b[0m Trial 9 finished with value: 0.7687629523354057 and parameters: {'classifier': 'RandomForest', 'n_estimators': 1830, 'max_depth': 29.294526234668353}. Best is trial 8 with value: 0.7687788936712897.\u001b[0m\n",
            "\u001b[32m[I 2021-02-11 13:31:58,192]\u001b[0m Trial 10 finished with value: 0.7655109198150805 and parameters: {'classifier': 'RandomForest', 'n_estimators': 1430, 'max_depth': 98.87168208661117}. Best is trial 8 with value: 0.7687788936712897.\u001b[0m\n",
            "\u001b[32m[I 2021-02-11 13:32:08,192]\u001b[0m Trial 11 finished with value: 0.7655029491471385 and parameters: {'classifier': 'RandomForest', 'n_estimators': 1990, 'max_depth': 96.6597947465476}. Best is trial 8 with value: 0.7687788936712897.\u001b[0m\n",
            "\u001b[32m[I 2021-02-11 13:32:15,422]\u001b[0m Trial 12 finished with value: 0.7622588872947552 and parameters: {'classifier': 'RandomForest', 'n_estimators': 1580, 'max_depth': 23.145987929736147}. Best is trial 8 with value: 0.7687788936712897.\u001b[0m\n",
            "\u001b[32m[I 2021-02-11 13:32:21,846]\u001b[0m Trial 13 finished with value: 0.767144906743185 and parameters: {'classifier': 'RandomForest', 'n_estimators': 1420, 'max_depth': 61.459425315549055}. Best is trial 8 with value: 0.7687788936712897.\u001b[0m\n",
            "\u001b[32m[I 2021-02-11 13:32:31,235]\u001b[0m Trial 14 finished with value: 0.7687788936712897 and parameters: {'classifier': 'RandomForest', 'n_estimators': 1980, 'max_depth': 29.381885296854158}. Best is trial 8 with value: 0.7687788936712897.\u001b[0m\n",
            "\u001b[32m[I 2021-02-11 13:32:40,336]\u001b[0m Trial 15 finished with value: 0.772030926191615 and parameters: {'classifier': 'RandomForest', 'n_estimators': 2000, 'max_depth': 13.211880599464497}. Best is trial 15 with value: 0.772030926191615.\u001b[0m\n",
            "\u001b[32m[I 2021-02-11 13:32:45,276]\u001b[0m Trial 16 finished with value: 0.7655188904830225 and parameters: {'classifier': 'RandomForest', 'n_estimators': 1060, 'max_depth': 14.745734496021853}. Best is trial 15 with value: 0.772030926191615.\u001b[0m\n",
            "\u001b[32m[I 2021-02-11 13:32:52,850]\u001b[0m Trial 17 finished with value: 0.7785589032360912 and parameters: {'classifier': 'RandomForest', 'n_estimators': 1680, 'max_depth': 10.349404830107318}. Best is trial 17 with value: 0.7785589032360912.\u001b[0m\n",
            "\u001b[32m[I 2021-02-11 13:33:00,337]\u001b[0m Trial 18 finished with value: 0.7736569424517775 and parameters: {'classifier': 'RandomForest', 'n_estimators': 1610, 'max_depth': 10.689498345963662}. Best is trial 17 with value: 0.7785589032360912.\u001b[0m\n",
            "\u001b[32m[I 2021-02-11 13:33:05,681]\u001b[0m Trial 19 finished with value: 0.7704128805993943 and parameters: {'classifier': 'RandomForest', 'n_estimators': 1170, 'max_depth': 10.36318071023069}. Best is trial 17 with value: 0.7785589032360912.\u001b[0m\n",
            "\u001b[32m[I 2021-02-11 13:33:12,991]\u001b[0m Trial 20 finished with value: 0.7752989000478241 and parameters: {'classifier': 'RandomForest', 'n_estimators': 1600, 'max_depth': 10.101210481627481}. Best is trial 17 with value: 0.7785589032360912.\u001b[0m\n",
            "\u001b[32m[I 2021-02-11 13:33:20,331]\u001b[0m Trial 21 finished with value: 0.7752909293798821 and parameters: {'classifier': 'RandomForest', 'n_estimators': 1610, 'max_depth': 10.541125629436287}. Best is trial 17 with value: 0.7785589032360912.\u001b[0m\n",
            "\u001b[32m[I 2021-02-11 13:33:26,618]\u001b[0m Trial 22 finished with value: 0.7687549816674637 and parameters: {'classifier': 'RandomForest', 'n_estimators': 1330, 'max_depth': 13.614230254978805}. Best is trial 17 with value: 0.7785589032360912.\u001b[0m\n",
            "\u001b[32m[I 2021-02-11 13:33:34,277]\u001b[0m Trial 23 finished with value: 0.767144906743185 and parameters: {'classifier': 'RandomForest', 'n_estimators': 1630, 'max_depth': 10.263316219346116}. Best is trial 17 with value: 0.7785589032360912.\u001b[0m\n",
            "\u001b[32m[I 2021-02-11 13:33:42,096]\u001b[0m Trial 24 finished with value: 0.7687868643392317 and parameters: {'classifier': 'RandomForest', 'n_estimators': 1680, 'max_depth': 17.20179952879121}. Best is trial 17 with value: 0.7785589032360912.\u001b[0m\n",
            "\u001b[32m[I 2021-02-11 13:33:47,775]\u001b[0m Trial 25 finished with value: 0.7752909293798821 and parameters: {'classifier': 'RandomForest', 'n_estimators': 1240, 'max_depth': 10.276742173914885}. Best is trial 17 with value: 0.7785589032360912.\u001b[0m\n",
            "\u001b[32m[I 2021-02-11 13:33:52,979]\u001b[0m Trial 26 finished with value: 0.7752909293798821 and parameters: {'classifier': 'RandomForest', 'n_estimators': 1150, 'max_depth': 12.130936313116921}. Best is trial 17 with value: 0.7785589032360912.\u001b[0m\n",
            "\u001b[32m[I 2021-02-11 13:33:57,232]\u001b[0m Trial 27 finished with value: 0.7704049099314524 and parameters: {'classifier': 'RandomForest', 'n_estimators': 920, 'max_depth': 12.496802114822305}. Best is trial 17 with value: 0.7785589032360912.\u001b[0m\n",
            "\u001b[32m[I 2021-02-11 13:34:03,835]\u001b[0m Trial 28 finished with value: 0.7704128805993943 and parameters: {'classifier': 'RandomForest', 'n_estimators': 1370, 'max_depth': 20.266373112294307}. Best is trial 17 with value: 0.7785589032360912.\u001b[0m\n",
            "\u001b[32m[I 2021-02-11 13:34:06,577]\u001b[0m Trial 29 finished with value: 0.7687709230033476 and parameters: {'classifier': 'RandomForest', 'n_estimators': 590, 'max_depth': 16.20162001863556}. Best is trial 17 with value: 0.7785589032360912.\u001b[0m\n",
            "\u001b[32m[I 2021-02-11 13:34:09,938]\u001b[0m Trial 30 finished with value: 0.7736728837876615 and parameters: {'classifier': 'RandomForest', 'n_estimators': 740, 'max_depth': 12.378290699963763}. Best is trial 17 with value: 0.7785589032360912.\u001b[0m\n",
            "\u001b[32m[I 2021-02-11 13:34:15,528]\u001b[0m Trial 31 finished with value: 0.7752989000478241 and parameters: {'classifier': 'RandomForest', 'n_estimators': 1220, 'max_depth': 10.001201180224449}. Best is trial 17 with value: 0.7785589032360912.\u001b[0m\n",
            "\u001b[32m[I 2021-02-11 13:34:20,309]\u001b[0m Trial 32 finished with value: 0.7704208512673363 and parameters: {'classifier': 'RandomForest', 'n_estimators': 1050, 'max_depth': 11.867334708784314}. Best is trial 17 with value: 0.7785589032360912.\u001b[0m\n",
            "\u001b[32m[I 2021-02-11 13:34:21,240]\u001b[0m Trial 33 finished with value: 0.7704128805993943 and parameters: {'classifier': 'RandomForest', 'n_estimators': 200, 'max_depth': 15.226938892565837}. Best is trial 17 with value: 0.7785589032360912.\u001b[0m\n",
            "\u001b[32m[I 2021-02-11 13:34:21,292]\u001b[0m Trial 34 finished with value: 0.6530926191614858 and parameters: {'classifier': 'SVC', 'svc_c': 0.0002636631565170072}. Best is trial 17 with value: 0.7785589032360912.\u001b[0m\n",
            "\u001b[32m[I 2021-02-11 13:34:28,238]\u001b[0m Trial 35 finished with value: 0.7704049099314524 and parameters: {'classifier': 'RandomForest', 'n_estimators': 1460, 'max_depth': 11.714803461668765}. Best is trial 17 with value: 0.7785589032360912.\u001b[0m\n",
            "\u001b[32m[I 2021-02-11 13:34:28,310]\u001b[0m Trial 36 finished with value: 0.6530926191614858 and parameters: {'classifier': 'SVC', 'svc_c': 2595761490.0584364}. Best is trial 17 with value: 0.7785589032360912.\u001b[0m\n",
            "\u001b[32m[I 2021-02-11 13:34:34,335]\u001b[0m Trial 37 finished with value: 0.7687788936712897 and parameters: {'classifier': 'RandomForest', 'n_estimators': 1280, 'max_depth': 23.463684034422535}. Best is trial 17 with value: 0.7785589032360912.\u001b[0m\n",
            "\u001b[32m[I 2021-02-11 13:34:39,530]\u001b[0m Trial 38 finished with value: 0.7720468675274988 and parameters: {'classifier': 'RandomForest', 'n_estimators': 1150, 'max_depth': 10.554103136418824}. Best is trial 17 with value: 0.7785589032360912.\u001b[0m\n",
            "\u001b[32m[I 2021-02-11 13:34:39,582]\u001b[0m Trial 39 finished with value: 0.6530926191614858 and parameters: {'classifier': 'SVC', 'svc_c': 3.5351531304424565e-10}. Best is trial 17 with value: 0.7785589032360912.\u001b[0m\n",
            "\u001b[32m[I 2021-02-11 13:34:46,609]\u001b[0m Trial 40 finished with value: 0.7720229555236728 and parameters: {'classifier': 'RandomForest', 'n_estimators': 1490, 'max_depth': 41.02022919965751}. Best is trial 17 with value: 0.7785589032360912.\u001b[0m\n",
            "\u001b[32m[I 2021-02-11 13:34:52,249]\u001b[0m Trial 41 finished with value: 0.7736808544556034 and parameters: {'classifier': 'RandomForest', 'n_estimators': 1230, 'max_depth': 10.004552881602278}. Best is trial 17 with value: 0.7785589032360912.\u001b[0m\n",
            "\u001b[32m[I 2021-02-11 13:34:56,443]\u001b[0m Trial 42 finished with value: 0.7752909293798821 and parameters: {'classifier': 'RandomForest', 'n_estimators': 920, 'max_depth': 11.621166976224334}. Best is trial 17 with value: 0.7785589032360912.\u001b[0m\n",
            "\u001b[32m[I 2021-02-11 13:35:04,830]\u001b[0m Trial 43 finished with value: 0.7671528774111271 and parameters: {'classifier': 'RandomForest', 'n_estimators': 1730, 'max_depth': 13.602838347119866}. Best is trial 17 with value: 0.7785589032360912.\u001b[0m\n",
            "\u001b[32m[I 2021-02-11 13:35:13,595]\u001b[0m Trial 44 finished with value: 0.7720468675274988 and parameters: {'classifier': 'RandomForest', 'n_estimators': 1880, 'max_depth': 10.066919906198097}. Best is trial 17 with value: 0.7785589032360912.\u001b[0m\n",
            "\u001b[32m[I 2021-02-11 13:35:17,982]\u001b[0m Trial 45 finished with value: 0.7687948350071737 and parameters: {'classifier': 'RandomForest', 'n_estimators': 890, 'max_depth': 18.387056861606688}. Best is trial 17 with value: 0.7785589032360912.\u001b[0m\n",
            "\u001b[32m[I 2021-02-11 13:35:24,140]\u001b[0m Trial 46 finished with value: 0.7752829587119402 and parameters: {'classifier': 'RandomForest', 'n_estimators': 1240, 'max_depth': 14.707697266298432}. Best is trial 17 with value: 0.7785589032360912.\u001b[0m\n",
            "\u001b[32m[I 2021-02-11 13:35:28,013]\u001b[0m Trial 47 finished with value: 0.7704049099314524 and parameters: {'classifier': 'RandomForest', 'n_estimators': 750, 'max_depth': 11.134828469537734}. Best is trial 17 with value: 0.7785589032360912.\u001b[0m\n",
            "\u001b[32m[I 2021-02-11 13:35:28,083]\u001b[0m Trial 48 finished with value: 0.6530926191614858 and parameters: {'classifier': 'SVC', 'svc_c': 0.15757630500179903}. Best is trial 17 with value: 0.7785589032360912.\u001b[0m\n",
            "\u001b[32m[I 2021-02-11 13:35:35,494]\u001b[0m Trial 49 finished with value: 0.7704049099314524 and parameters: {'classifier': 'RandomForest', 'n_estimators': 1510, 'max_depth': 10.094705199799936}. Best is trial 17 with value: 0.7785589032360912.\u001b[0m\n",
            "\u001b[32m[I 2021-02-11 13:35:44,020]\u001b[0m Trial 50 finished with value: 0.7687788936712897 and parameters: {'classifier': 'RandomForest', 'n_estimators': 1850, 'max_depth': 14.046562776390125}. Best is trial 17 with value: 0.7785589032360912.\u001b[0m\n",
            "\u001b[32m[I 2021-02-11 13:35:48,774]\u001b[0m Trial 51 finished with value: 0.7736569424517775 and parameters: {'classifier': 'RandomForest', 'n_estimators': 1030, 'max_depth': 11.252762400558407}. Best is trial 17 with value: 0.7785589032360912.\u001b[0m\n",
            "\u001b[32m[I 2021-02-11 13:35:52,411]\u001b[0m Trial 52 finished with value: 0.7704049099314524 and parameters: {'classifier': 'RandomForest', 'n_estimators': 780, 'max_depth': 12.573958525066535}. Best is trial 17 with value: 0.7785589032360912.\u001b[0m\n",
            "\u001b[32m[I 2021-02-11 13:35:59,481]\u001b[0m Trial 53 finished with value: 0.7704128805993943 and parameters: {'classifier': 'RandomForest', 'n_estimators': 1540, 'max_depth': 10.074115459927262}. Best is trial 17 with value: 0.7785589032360912.\u001b[0m\n",
            "\u001b[32m[I 2021-02-11 13:36:07,566]\u001b[0m Trial 54 finished with value: 0.7703969392635103 and parameters: {'classifier': 'RandomForest', 'n_estimators': 1730, 'max_depth': 11.648760486727925}. Best is trial 17 with value: 0.7785589032360912.\u001b[0m\n",
            "\u001b[32m[I 2021-02-11 13:36:13,846]\u001b[0m Trial 55 finished with value: 0.7687709230033476 and parameters: {'classifier': 'RandomForest', 'n_estimators': 1350, 'max_depth': 10.10779762168324}. Best is trial 17 with value: 0.7785589032360912.\u001b[0m\n",
            "\u001b[32m[I 2021-02-11 13:36:19,110]\u001b[0m Trial 56 finished with value: 0.7704049099314524 and parameters: {'classifier': 'RandomForest', 'n_estimators': 1160, 'max_depth': 35.18185788206444}. Best is trial 17 with value: 0.7785589032360912.\u001b[0m\n",
            "\u001b[32m[I 2021-02-11 13:36:25,442]\u001b[0m Trial 57 finished with value: 0.7769328869759287 and parameters: {'classifier': 'RandomForest', 'n_estimators': 1390, 'max_depth': 12.964887467635053}. Best is trial 17 with value: 0.7785589032360912.\u001b[0m\n",
            "\u001b[32m[I 2021-02-11 13:36:30,028]\u001b[0m Trial 58 finished with value: 0.772038896859557 and parameters: {'classifier': 'RandomForest', 'n_estimators': 980, 'max_depth': 12.909655894594456}. Best is trial 17 with value: 0.7785589032360912.\u001b[0m\n",
            "\u001b[32m[I 2021-02-11 13:36:36,595]\u001b[0m Trial 59 finished with value: 0.7671608480790691 and parameters: {'classifier': 'RandomForest', 'n_estimators': 1410, 'max_depth': 15.614369014671434}. Best is trial 17 with value: 0.7785589032360912.\u001b[0m\n",
            "\u001b[32m[I 2021-02-11 13:36:42,539]\u001b[0m Trial 60 finished with value: 0.7703969392635103 and parameters: {'classifier': 'RandomForest', 'n_estimators': 1280, 'max_depth': 80.63083620733788}. Best is trial 17 with value: 0.7785589032360912.\u001b[0m\n",
            "\u001b[32m[I 2021-02-11 13:36:50,103]\u001b[0m Trial 61 finished with value: 0.772038896859557 and parameters: {'classifier': 'RandomForest', 'n_estimators': 1640, 'max_depth': 11.038378127425675}. Best is trial 17 with value: 0.7785589032360912.\u001b[0m\n",
            "\u001b[32m[I 2021-02-11 13:36:55,107]\u001b[0m Trial 62 finished with value: 0.7704128805993943 and parameters: {'classifier': 'RandomForest', 'n_estimators': 1090, 'max_depth': 13.590042009727846}. Best is trial 17 with value: 0.7785589032360912.\u001b[0m\n",
            "\u001b[32m[I 2021-02-11 13:37:02,436]\u001b[0m Trial 63 finished with value: 0.772038896859557 and parameters: {'classifier': 'RandomForest', 'n_estimators': 1570, 'max_depth': 11.58419012445917}. Best is trial 17 with value: 0.7785589032360912.\u001b[0m\n",
            "\u001b[32m[I 2021-02-11 13:37:08,257]\u001b[0m Trial 64 finished with value: 0.7687709230033476 and parameters: {'classifier': 'RandomForest', 'n_estimators': 1140, 'max_depth': 16.85178133296666}. Best is trial 17 with value: 0.7785589032360912.\u001b[0m\n",
            "\u001b[32m[I 2021-02-11 13:37:16,832]\u001b[0m Trial 65 finished with value: 0.7736569424517775 and parameters: {'classifier': 'RandomForest', 'n_estimators': 1700, 'max_depth': 51.862604329815454}. Best is trial 17 with value: 0.7785589032360912.\u001b[0m\n",
            "\u001b[32m[I 2021-02-11 13:37:21,274]\u001b[0m Trial 66 finished with value: 0.767144906743185 and parameters: {'classifier': 'RandomForest', 'n_estimators': 970, 'max_depth': 12.460091333605506}. Best is trial 17 with value: 0.7785589032360912.\u001b[0m\n",
            "\u001b[32m[I 2021-02-11 13:37:27,811]\u001b[0m Trial 67 finished with value: 0.7704049099314524 and parameters: {'classifier': 'RandomForest', 'n_estimators': 1400, 'max_depth': 10.826942821000326}. Best is trial 17 with value: 0.7785589032360912.\u001b[0m\n",
            "\u001b[32m[I 2021-02-11 13:37:35,916]\u001b[0m Trial 68 finished with value: 0.7703969392635103 and parameters: {'classifier': 'RandomForest', 'n_estimators': 1790, 'max_depth': 20.962829280279827}. Best is trial 17 with value: 0.7785589032360912.\u001b[0m\n",
            "\u001b[32m[I 2021-02-11 13:37:41,878]\u001b[0m Trial 69 finished with value: 0.7687788936712897 and parameters: {'classifier': 'RandomForest', 'n_estimators': 1310, 'max_depth': 10.013601230178029}. Best is trial 17 with value: 0.7785589032360912.\u001b[0m\n",
            "\u001b[32m[I 2021-02-11 13:37:41,949]\u001b[0m Trial 70 finished with value: 0.6530926191614858 and parameters: {'classifier': 'SVC', 'svc_c': 1385741806.737917}. Best is trial 17 with value: 0.7785589032360912.\u001b[0m\n",
            "\u001b[32m[I 2021-02-11 13:37:47,514]\u001b[0m Trial 71 finished with value: 0.7687868643392317 and parameters: {'classifier': 'RandomForest', 'n_estimators': 1210, 'max_depth': 11.979797675014987}. Best is trial 17 with value: 0.7785589032360912.\u001b[0m\n",
            "\u001b[32m[I 2021-02-11 13:37:54,070]\u001b[0m Trial 72 finished with value: 0.7736728837876615 and parameters: {'classifier': 'RandomForest', 'n_estimators': 1450, 'max_depth': 10.953339357169728}. Best is trial 17 with value: 0.7785589032360912.\u001b[0m\n",
            "\u001b[32m[I 2021-02-11 13:37:59,238]\u001b[0m Trial 73 finished with value: 0.7655029491471385 and parameters: {'classifier': 'RandomForest', 'n_estimators': 1110, 'max_depth': 14.276010989905563}. Best is trial 17 with value: 0.7785589032360912.\u001b[0m\n",
            "\u001b[32m[I 2021-02-11 13:38:06,838]\u001b[0m Trial 74 finished with value: 0.7687709230033476 and parameters: {'classifier': 'RandomForest', 'n_estimators': 1620, 'max_depth': 13.127144901355827}. Best is trial 17 with value: 0.7785589032360912.\u001b[0m\n",
            "\u001b[32m[I 2021-02-11 13:38:13,924]\u001b[0m Trial 75 finished with value: 0.7769328869759287 and parameters: {'classifier': 'RandomForest', 'n_estimators': 1560, 'max_depth': 10.804291819402353}. Best is trial 17 with value: 0.7785589032360912.\u001b[0m\n",
            "\u001b[32m[I 2021-02-11 13:38:17,693]\u001b[0m Trial 76 finished with value: 0.7736649131197195 and parameters: {'classifier': 'RandomForest', 'n_estimators': 820, 'max_depth': 11.99857241695839}. Best is trial 17 with value: 0.7785589032360912.\u001b[0m\n",
            "\u001b[32m[I 2021-02-11 13:38:24,631]\u001b[0m Trial 77 finished with value: 0.772038896859557 and parameters: {'classifier': 'RandomForest', 'n_estimators': 1530, 'max_depth': 10.669259144284467}. Best is trial 17 with value: 0.7785589032360912.\u001b[0m\n",
            "\u001b[32m[I 2021-02-11 13:38:32,936]\u001b[0m Trial 78 finished with value: 0.772030926191615 and parameters: {'classifier': 'RandomForest', 'n_estimators': 1790, 'max_depth': 13.032796643589055}. Best is trial 17 with value: 0.7785589032360912.\u001b[0m\n",
            "\u001b[32m[I 2021-02-11 13:38:40,443]\u001b[0m Trial 79 finished with value: 0.7703889685955683 and parameters: {'classifier': 'RandomForest', 'n_estimators': 1650, 'max_depth': 25.364796153221608}. Best is trial 17 with value: 0.7785589032360912.\u001b[0m\n",
            "\u001b[32m[I 2021-02-11 13:38:47,621]\u001b[0m Trial 80 finished with value: 0.7736649131197195 and parameters: {'classifier': 'RandomForest', 'n_estimators': 1590, 'max_depth': 10.028042100293394}. Best is trial 17 with value: 0.7785589032360912.\u001b[0m\n",
            "\u001b[32m[I 2021-02-11 13:38:56,343]\u001b[0m Trial 81 finished with value: 0.7704128805993943 and parameters: {'classifier': 'RandomForest', 'n_estimators': 1910, 'max_depth': 11.305545900550191}. Best is trial 17 with value: 0.7785589032360912.\u001b[0m\n",
            "\u001b[32m[I 2021-02-11 13:39:01,887]\u001b[0m Trial 82 finished with value: 0.7704128805993943 and parameters: {'classifier': 'RandomForest', 'n_estimators': 1210, 'max_depth': 10.93918576708253}. Best is trial 17 with value: 0.7785589032360912.\u001b[0m\n",
            "\u001b[32m[I 2021-02-11 13:39:08,257]\u001b[0m Trial 83 finished with value: 0.7704049099314524 and parameters: {'classifier': 'RandomForest', 'n_estimators': 1370, 'max_depth': 12.172765268627257}. Best is trial 17 with value: 0.7785589032360912.\u001b[0m\n",
            "\u001b[32m[I 2021-02-11 13:39:15,078]\u001b[0m Trial 84 finished with value: 0.7687709230033476 and parameters: {'classifier': 'RandomForest', 'n_estimators': 1490, 'max_depth': 10.62696432842566}. Best is trial 17 with value: 0.7785589032360912.\u001b[0m\n",
            "\u001b[32m[I 2021-02-11 13:39:17,849]\u001b[0m Trial 85 finished with value: 0.7704049099314524 and parameters: {'classifier': 'RandomForest', 'n_estimators': 610, 'max_depth': 14.842021515295183}. Best is trial 17 with value: 0.7785589032360912.\u001b[0m\n",
            "\u001b[32m[I 2021-02-11 13:39:25,650]\u001b[0m Trial 86 finished with value: 0.772030926191615 and parameters: {'classifier': 'RandomForest', 'n_estimators': 1700, 'max_depth': 11.544165601059763}. Best is trial 17 with value: 0.7785589032360912.\u001b[0m\n",
            "\u001b[32m[I 2021-02-11 13:39:31,892]\u001b[0m Trial 87 finished with value: 0.7752909293798821 and parameters: {'classifier': 'RandomForest', 'n_estimators': 1290, 'max_depth': 10.480479505189402}. Best is trial 17 with value: 0.7785589032360912.\u001b[0m\n",
            "\u001b[32m[I 2021-02-11 13:39:31,962]\u001b[0m Trial 88 finished with value: 0.6530926191614858 and parameters: {'classifier': 'SVC', 'svc_c': 12090.83178125547}. Best is trial 17 with value: 0.7785589032360912.\u001b[0m\n",
            "\u001b[32m[I 2021-02-11 13:39:37,796]\u001b[0m Trial 89 finished with value: 0.7687788936712897 and parameters: {'classifier': 'RandomForest', 'n_estimators': 1260, 'max_depth': 10.010994844309405}. Best is trial 17 with value: 0.7785589032360912.\u001b[0m\n",
            "\u001b[32m[I 2021-02-11 13:39:44,163]\u001b[0m Trial 90 finished with value: 0.772030926191615 and parameters: {'classifier': 'RandomForest', 'n_estimators': 1330, 'max_depth': 10.370033400070257}. Best is trial 17 with value: 0.7785589032360912.\u001b[0m\n",
            "\u001b[32m[I 2021-02-11 13:39:48,802]\u001b[0m Trial 91 finished with value: 0.767144906743185 and parameters: {'classifier': 'RandomForest', 'n_estimators': 1020, 'max_depth': 12.107607875249384}. Best is trial 17 with value: 0.7785589032360912.\u001b[0m\n",
            "\u001b[32m[I 2021-02-11 13:39:54,193]\u001b[0m Trial 92 finished with value: 0.772030926191615 and parameters: {'classifier': 'RandomForest', 'n_estimators': 1190, 'max_depth': 13.61459474866818}. Best is trial 17 with value: 0.7785589032360912.\u001b[0m\n",
            "\u001b[32m[I 2021-02-11 13:40:00,341]\u001b[0m Trial 93 finished with value: 0.7704128805993943 and parameters: {'classifier': 'RandomForest', 'n_estimators': 1300, 'max_depth': 10.636147805682256}. Best is trial 17 with value: 0.7785589032360912.\u001b[0m\n",
            "\u001b[32m[I 2021-02-11 13:40:07,557]\u001b[0m Trial 94 finished with value: 0.772038896859557 and parameters: {'classifier': 'RandomForest', 'n_estimators': 1550, 'max_depth': 12.68143966537233}. Best is trial 17 with value: 0.7785589032360912.\u001b[0m\n",
            "\u001b[32m[I 2021-02-11 13:40:14,391]\u001b[0m Trial 95 finished with value: 0.7703969392635103 and parameters: {'classifier': 'RandomForest', 'n_estimators': 1480, 'max_depth': 11.28118260820963}. Best is trial 17 with value: 0.7785589032360912.\u001b[0m\n",
            "\u001b[32m[I 2021-02-11 13:40:20,766]\u001b[0m Trial 96 finished with value: 0.7704128805993943 and parameters: {'classifier': 'RandomForest', 'n_estimators': 1410, 'max_depth': 15.825317322244617}. Best is trial 17 with value: 0.7785589032360912.\u001b[0m\n",
            "\u001b[32m[I 2021-02-11 13:40:25,740]\u001b[0m Trial 97 finished with value: 0.772038896859557 and parameters: {'classifier': 'RandomForest', 'n_estimators': 1110, 'max_depth': 10.105703672588353}. Best is trial 17 with value: 0.7785589032360912.\u001b[0m\n",
            "\u001b[32m[I 2021-02-11 13:40:32,045]\u001b[0m Trial 98 finished with value: 0.7720229555236728 and parameters: {'classifier': 'RandomForest', 'n_estimators': 1370, 'max_depth': 11.454892093961542}. Best is trial 17 with value: 0.7785589032360912.\u001b[0m\n",
            "\u001b[32m[I 2021-02-11 13:40:38,747]\u001b[0m Trial 99 finished with value: 0.7687868643392317 and parameters: {'classifier': 'RandomForest', 'n_estimators': 1440, 'max_depth': 10.002232124291082}. Best is trial 17 with value: 0.7785589032360912.\u001b[0m\n"
          ],
          "name": "stderr"
        },
        {
          "output_type": "stream",
          "text": [
            "Accuracy: 0.7785589032360912\n",
            "Best hyperparameters: {'classifier': 'RandomForest', 'n_estimators': 1680, 'max_depth': 10.349404830107318}\n"
          ],
          "name": "stdout"
        }
      ]
    },
    {
      "cell_type": "code",
      "metadata": {
        "id": "QbTyE71IFPSt",
        "colab": {
          "base_uri": "https://localhost:8080/"
        },
        "outputId": "1523bad3-95fc-4088-962c-4d12bf8802fe"
      },
      "source": [
        "trial"
      ],
      "execution_count": null,
      "outputs": [
        {
          "output_type": "execute_result",
          "data": {
            "text/plain": [
              "FrozenTrial(number=17, values=[0.7785589032360912], datetime_start=datetime.datetime(2021, 2, 11, 13, 32, 45, 277472), datetime_complete=datetime.datetime(2021, 2, 11, 13, 32, 52, 849976), params={'classifier': 'RandomForest', 'n_estimators': 1680, 'max_depth': 10.349404830107318}, distributions={'classifier': CategoricalDistribution(choices=('RandomForest', 'SVC')), 'n_estimators': IntUniformDistribution(high=2000, low=200, step=10), 'max_depth': LogUniformDistribution(high=100, low=10)}, user_attrs={}, system_attrs={}, intermediate_values={}, trial_id=17, state=TrialState.COMPLETE, value=None)"
            ]
          },
          "metadata": {
            "tags": []
          },
          "execution_count": 44
        }
      ]
    },
    {
      "cell_type": "code",
      "metadata": {
        "id": "rNaQkkgXFQwS",
        "colab": {
          "base_uri": "https://localhost:8080/"
        },
        "outputId": "0b97fc92-fac2-4ce6-912c-f96d0b59f4f6"
      },
      "source": [
        "study.best_params"
      ],
      "execution_count": null,
      "outputs": [
        {
          "output_type": "execute_result",
          "data": {
            "text/plain": [
              "{'classifier': 'RandomForest',\n",
              " 'max_depth': 10.349404830107318,\n",
              " 'n_estimators': 1680}"
            ]
          },
          "metadata": {
            "tags": []
          },
          "execution_count": 45
        }
      ]
    },
    {
      "cell_type": "code",
      "metadata": {
        "id": "a7BzE1E0FAOp",
        "colab": {
          "base_uri": "https://localhost:8080/"
        },
        "outputId": "35a2b67c-dec6-48cf-f4b5-65f2b20eb58c"
      },
      "source": [
        "rf=RandomForestClassifier(n_estimators=330,max_depth=30)\r\n",
        "rf.fit(x_train,y_train)"
      ],
      "execution_count": null,
      "outputs": [
        {
          "output_type": "execute_result",
          "data": {
            "text/plain": [
              "RandomForestClassifier(bootstrap=True, ccp_alpha=0.0, class_weight=None,\n",
              "                       criterion='gini', max_depth=30, max_features='auto',\n",
              "                       max_leaf_nodes=None, max_samples=None,\n",
              "                       min_impurity_decrease=0.0, min_impurity_split=None,\n",
              "                       min_samples_leaf=1, min_samples_split=2,\n",
              "                       min_weight_fraction_leaf=0.0, n_estimators=330,\n",
              "                       n_jobs=None, oob_score=False, random_state=None,\n",
              "                       verbose=0, warm_start=False)"
            ]
          },
          "metadata": {
            "tags": []
          },
          "execution_count": 47
        }
      ]
    },
    {
      "cell_type": "code",
      "metadata": {
        "id": "I4eR4rQ8FWsi",
        "colab": {
          "base_uri": "https://localhost:8080/"
        },
        "outputId": "ca07e99f-eef3-4254-a5d8-22847ed64e37"
      },
      "source": [
        "y_pred=rf.predict(x_test)\r\n",
        "print(confusion_matrix(y_test,y_pred))\r\n",
        "print(accuracy_score(y_test,y_pred))\r\n",
        "print(classification_report(y_test,y_pred))"
      ],
      "execution_count": null,
      "outputs": [
        {
          "output_type": "stream",
          "text": [
            "[[88 11]\n",
            " [23 32]]\n",
            "0.7792207792207793\n",
            "              precision    recall  f1-score   support\n",
            "\n",
            "           0       0.79      0.89      0.84        99\n",
            "           1       0.74      0.58      0.65        55\n",
            "\n",
            "    accuracy                           0.78       154\n",
            "   macro avg       0.77      0.74      0.75       154\n",
            "weighted avg       0.78      0.78      0.77       154\n",
            "\n"
          ],
          "name": "stdout"
        }
      ]
    },
    {
      "cell_type": "code",
      "metadata": {
        "id": "Kz8lw8amUtHa"
      },
      "source": [
        ""
      ],
      "execution_count": null,
      "outputs": []
    }
  ]
}